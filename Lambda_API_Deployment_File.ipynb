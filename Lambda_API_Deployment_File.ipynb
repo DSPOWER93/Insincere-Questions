{
  "nbformat": 4,
  "nbformat_minor": 0,
  "metadata": {
    "colab": {
      "name": "Lambda API Deployment File.ipynb",
      "provenance": [],
      "authorship_tag": "ABX9TyPCpWB/51sNsSTGDRzacQPU",
      "include_colab_link": true
    },
    "kernelspec": {
      "name": "python3",
      "display_name": "Python 3"
    },
    "language_info": {
      "name": "python"
    }
  },
  "cells": [
    {
      "cell_type": "markdown",
      "metadata": {
        "id": "view-in-github",
        "colab_type": "text"
      },
      "source": [
        "<a href=\"https://colab.research.google.com/github/DSPOWER93/Insincere-Questions/blob/main/Lambda_API_Deployment_File.ipynb\" target=\"_parent\"><img src=\"https://colab.research.google.com/assets/colab-badge.svg\" alt=\"Open In Colab\"/></a>"
      ]
    },
    {
      "cell_type": "markdown",
      "source": [
        "### Context:\n",
        "\n",
        "Following Notebook is created to test out API to predict Insincere questions score. complete Project [Link](https://github.com/DSPOWER93/quora-insincere)"
      ],
      "metadata": {
        "id": "1sbZrKRzTTSs"
      }
    },
    {
      "cell_type": "code",
      "execution_count": 1,
      "metadata": {
        "id": "3UHVoQyKIj8U"
      },
      "outputs": [],
      "source": [
        "import requests, json\n",
        "url = \"https://bl5i4vptna.execute-api.us-east-1.amazonaws.com/dev/api\""
      ]
    },
    {
      "cell_type": "markdown",
      "source": [
        "### Lowest insincerity level "
      ],
      "metadata": {
        "id": "UatBwaC8JoBJ"
      }
    },
    {
      "cell_type": "code",
      "source": [
        "data = json.dumps({\"queryStringParameters\":{\n",
        "      \"text\":\"what time does sun rise in Japan\"\n",
        "      \t\t}})\n",
        "r = requests.post(url, data)\n",
        "print(r.json())"
      ],
      "metadata": {
        "colab": {
          "base_uri": "https://localhost:8080/",
          "height": 0
        },
        "id": "viC7o4JHJHUV",
        "outputId": "3d94d2d1-2433-4c1a-84e8-e27e0acdc660"
      },
      "execution_count": 2,
      "outputs": [
        {
          "output_type": "stream",
          "name": "stdout",
          "text": [
            "{'statusCode': 200, 'output': '\"0.004349351\"'}\n"
          ]
        }
      ]
    },
    {
      "cell_type": "markdown",
      "source": [
        "### Medium Level insincerity"
      ],
      "metadata": {
        "id": "HiAjl-X0JKQc"
      }
    },
    {
      "cell_type": "code",
      "source": [
        "data = json.dumps({\"queryStringParameters\":{\n",
        "      \"text\":\"Is Europe violent\"\n",
        "      \t\t}})\n",
        "r = requests.post(url, data)\n",
        "print(r.json())"
      ],
      "metadata": {
        "colab": {
          "base_uri": "https://localhost:8080/",
          "height": 0
        },
        "id": "YEJ-vt7TIsxe",
        "outputId": "0c8a6e4b-b892-4b42-9353-9cb4957d4c6a"
      },
      "execution_count": 3,
      "outputs": [
        {
          "output_type": "stream",
          "name": "stdout",
          "text": [
            "{'statusCode': 200, 'output': '\"0.21392596\"'}\n"
          ]
        }
      ]
    },
    {
      "cell_type": "markdown",
      "source": [
        "### High Level insincerity question"
      ],
      "metadata": {
        "id": "fwi2_FWlJTSt"
      }
    },
    {
      "cell_type": "code",
      "source": [
        "data = json.dumps({\"queryStringParameters\":{\n",
        "      \"text\":\"Does USA hate Gays\"\n",
        "      \t\t}})\n",
        "r = requests.post(url, data)\n",
        "print(r.json())"
      ],
      "metadata": {
        "colab": {
          "base_uri": "https://localhost:8080/",
          "height": 0
        },
        "id": "TL9ZePlII6J-",
        "outputId": "125a45f2-08fa-440e-b806-2bba8793d02c"
      },
      "execution_count": 4,
      "outputs": [
        {
          "output_type": "stream",
          "name": "stdout",
          "text": [
            "{'statusCode': 200, 'output': '\"0.8821814\"'}\n"
          ]
        }
      ]
    }
  ]
}