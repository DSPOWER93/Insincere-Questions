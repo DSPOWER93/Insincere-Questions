{
  "nbformat": 4,
  "nbformat_minor": 0,
  "metadata": {
    "colab": {
      "name": "Lambda API Deployment File.ipynb",
      "provenance": [],
      "authorship_tag": "ABX9TyMR/SeVxnNRiVXwY8X69qSk",
      "include_colab_link": true
    },
    "kernelspec": {
      "name": "python3",
      "display_name": "Python 3"
    },
    "language_info": {
      "name": "python"
    }
  },
  "cells": [
    {
      "cell_type": "markdown",
      "metadata": {
        "id": "view-in-github",
        "colab_type": "text"
      },
      "source": [
        "<a href=\"https://colab.research.google.com/github/DSPOWER93/quora-insincere/blob/main/Lambda_API_Deployment_File.ipynb\" target=\"_parent\"><img src=\"https://colab.research.google.com/assets/colab-badge.svg\" alt=\"Open In Colab\"/></a>"
      ]
    },
    {
      "cell_type": "code",
      "execution_count": null,
      "metadata": {
        "id": "3UHVoQyKIj8U"
      },
      "outputs": [],
      "source": [
        "import requests, json\n",
        "url = \"https://bl5i4vptna.execute-api.us-east-1.amazonaws.com/dev/api\""
      ]
    },
    {
      "cell_type": "markdown",
      "source": [
        "### Lowest insincerity level "
      ],
      "metadata": {
        "id": "UatBwaC8JoBJ"
      }
    },
    {
      "cell_type": "code",
      "source": [
        "data = json.dumps({\"queryStringParameters\":{\n",
        "      \"text\":\"what time does sun rise in Japan\"\n",
        "      \t\t}})\n",
        "r = requests.post(url, data)\n",
        "print(r.json())"
      ],
      "metadata": {
        "colab": {
          "base_uri": "https://localhost:8080/"
        },
        "id": "viC7o4JHJHUV",
        "outputId": "d4c828a2-197f-496c-eb7a-5ba3d1350127"
      },
      "execution_count": null,
      "outputs": [
        {
          "output_type": "stream",
          "name": "stdout",
          "text": [
            "{'statusCode': 200, 'output': '\"0.004349351\"'}\n"
          ]
        }
      ]
    },
    {
      "cell_type": "markdown",
      "source": [
        "### Medium Level insincerity"
      ],
      "metadata": {
        "id": "HiAjl-X0JKQc"
      }
    },
    {
      "cell_type": "code",
      "source": [
        "data = json.dumps({\"queryStringParameters\":{\n",
        "      \"text\":\"Is Europe Safe to visit\"\n",
        "      \t\t}})\n",
        "r = requests.post(url, data)\n",
        "print(r.json())"
      ],
      "metadata": {
        "colab": {
          "base_uri": "https://localhost:8080/"
        },
        "id": "YEJ-vt7TIsxe",
        "outputId": "75014015-74af-4737-cfdc-c3323ffe5ab4"
      },
      "execution_count": null,
      "outputs": [
        {
          "output_type": "stream",
          "name": "stdout",
          "text": [
            "{'statusCode': 200, 'output': '\"0.048346043\"'}\n"
          ]
        }
      ]
    },
    {
      "cell_type": "markdown",
      "source": [
        "### High Level insincerity question"
      ],
      "metadata": {
        "id": "fwi2_FWlJTSt"
      }
    },
    {
      "cell_type": "code",
      "source": [
        "data = json.dumps({\"queryStringParameters\":{\n",
        "      \"text\":\"are jews loyal\"\n",
        "      \t\t}})\n",
        "r = requests.post(url, data)\n",
        "print(r.json())"
      ],
      "metadata": {
        "colab": {
          "base_uri": "https://localhost:8080/"
        },
        "id": "TL9ZePlII6J-",
        "outputId": "3015c70b-1d12-4025-a1bf-90cdcbe1dd94"
      },
      "execution_count": null,
      "outputs": [
        {
          "output_type": "stream",
          "name": "stdout",
          "text": [
            "{'statusCode': 200, 'output': '\"0.89999694\"'}\n"
          ]
        }
      ]
    },
    {
      "cell_type": "code",
      "source": [
        "data = json.dumps({\"queryStringParameters\":{\n",
        "      \"text\":\"does USA hate gay\"\n",
        "      \t\t}})\n",
        "r = requests.post(url, data)\n",
        "print(r.json())"
      ],
      "metadata": {
        "colab": {
          "base_uri": "https://localhost:8080/"
        },
        "id": "wvlsX4sqJgEi",
        "outputId": "c681fd90-f8af-420c-d2b0-55db5045fec6"
      },
      "execution_count": null,
      "outputs": [
        {
          "output_type": "stream",
          "name": "stdout",
          "text": [
            "{'statusCode': 200, 'output': '\"0.8821814\"'}\n"
          ]
        }
      ]
    },
    {
      "cell_type": "code",
      "source": [
        "data = json.dumps({\"queryStringParameters\":{\n",
        "      \"text\":\"chaos\"\n",
        "      \t\t}})\n",
        "r = requests.post(url, data)\n",
        "print(r.json())"
      ],
      "metadata": {
        "colab": {
          "base_uri": "https://localhost:8080/"
        },
        "id": "qxgO0hcFN8br",
        "outputId": "d2c83d95-1984-4799-fde0-557c1a9dd20b"
      },
      "execution_count": null,
      "outputs": [
        {
          "output_type": "stream",
          "name": "stdout",
          "text": [
            "{'statusCode': 200, 'output': '\"0.2755206\"'}\n"
          ]
        }
      ]
    },
    {
      "cell_type": "code",
      "source": [
        "# Which Language would be in highest demand in 2021?​\n",
        "\n",
        "data = json.dumps({\"queryStringParameters\":{\n",
        "      \"text\":\"Which Language would be in highest demand in 2021?​\"\n",
        "      \t\t}})\n",
        "r = requests.post(url, data)\n",
        "print(r.json())"
      ],
      "metadata": {
        "id": "IIbzxxDXRjAR",
        "colab": {
          "base_uri": "https://localhost:8080/"
        },
        "outputId": "35c3028d-34bb-4c7e-d533-6ea4da245629"
      },
      "execution_count": null,
      "outputs": [
        {
          "output_type": "stream",
          "name": "stdout",
          "text": [
            "{'statusCode': 200, 'output': '\"0.0018365383\"'}\n"
          ]
        }
      ]
    },
    {
      "cell_type": "code",
      "source": [
        "data = json.dumps({\"queryStringParameters\":{\n",
        "      \"text\":\"is Brexit right decision​\"\n",
        "      \t\t}})\n",
        "r = requests.post(url, data)\n",
        "print(r.json())"
      ],
      "metadata": {
        "colab": {
          "base_uri": "https://localhost:8080/"
        },
        "id": "tb5dehX1pj_l",
        "outputId": "e703c6be-f117-4c99-b0bc-d97b3a59e195"
      },
      "execution_count": null,
      "outputs": [
        {
          "output_type": "stream",
          "name": "stdout",
          "text": [
            "{'statusCode': 200, 'output': '\"0.094079554\"'}\n"
          ]
        }
      ]
    },
    {
      "cell_type": "code",
      "source": [
        "data = json.dumps({\"queryStringParameters\":{\n",
        "      \"text\":\"does US support gay rights​\"\n",
        "      \t\t}})\n",
        "r = requests.post(url, data)\n",
        "print(r.json())"
      ],
      "metadata": {
        "colab": {
          "base_uri": "https://localhost:8080/"
        },
        "id": "f4m2ZMAzqpI0",
        "outputId": "594e5dbf-ccb3-4520-9431-24d4ef339602"
      },
      "execution_count": null,
      "outputs": [
        {
          "output_type": "stream",
          "name": "stdout",
          "text": [
            "{'statusCode': 200, 'output': '\"0.82636654\"'}\n"
          ]
        }
      ]
    },
    {
      "cell_type": "code",
      "source": [
        "data = json.dumps({\"queryStringParameters\":{\n",
        "      \"text\":\"is europe becoming extremist region\"\n",
        "      \t\t}})\n",
        "r = requests.post(url, data)\n",
        "print(r.json())"
      ],
      "metadata": {
        "colab": {
          "base_uri": "https://localhost:8080/"
        },
        "id": "4k_RjVcgrSOD",
        "outputId": "7f7e985c-387b-49b4-de84-461c728b16a7"
      },
      "execution_count": null,
      "outputs": [
        {
          "output_type": "stream",
          "name": "stdout",
          "text": [
            "{'statusCode': 200, 'output': '\"0.6603145\"'}\n"
          ]
        }
      ]
    },
    {
      "cell_type": "code",
      "source": [
        "data = json.dumps({\"queryStringParameters\":{\n",
        "      \"text\":\"is europe becoming extremist region\"\n",
        "      \t\t}})\n",
        "\n",
        "\n",
        "for i in range(20):\n",
        "  r = requests.post(url, data)\n",
        "  print(r.json())"
      ],
      "metadata": {
        "colab": {
          "base_uri": "https://localhost:8080/"
        },
        "id": "AV04CWP9rvz0",
        "outputId": "86aca393-fdfd-4427-a671-84a002216584"
      },
      "execution_count": null,
      "outputs": [
        {
          "output_type": "stream",
          "name": "stdout",
          "text": [
            "{'statusCode': 200, 'output': '\"0.6603145\"'}\n",
            "{'statusCode': 200, 'output': '\"0.6603145\"'}\n",
            "{'statusCode': 200, 'output': '\"0.6603145\"'}\n",
            "{'statusCode': 200, 'output': '\"0.6603145\"'}\n",
            "{'statusCode': 200, 'output': '\"0.6603145\"'}\n",
            "{'statusCode': 200, 'output': '\"0.6603145\"'}\n",
            "{'statusCode': 200, 'output': '\"0.6603145\"'}\n",
            "{'statusCode': 200, 'output': '\"0.6603145\"'}\n",
            "{'statusCode': 200, 'output': '\"0.6603145\"'}\n",
            "{'statusCode': 200, 'output': '\"0.6603145\"'}\n",
            "{'statusCode': 200, 'output': '\"0.6603145\"'}\n",
            "{'statusCode': 200, 'output': '\"0.6603145\"'}\n",
            "{'statusCode': 200, 'output': '\"0.6603145\"'}\n",
            "{'statusCode': 200, 'output': '\"0.6603145\"'}\n",
            "{'statusCode': 200, 'output': '\"0.6603145\"'}\n",
            "{'statusCode': 200, 'output': '\"0.6603145\"'}\n",
            "{'statusCode': 200, 'output': '\"0.6603145\"'}\n",
            "{'statusCode': 200, 'output': '\"0.6603145\"'}\n",
            "{'statusCode': 200, 'output': '\"0.6603145\"'}\n",
            "{'statusCode': 200, 'output': '\"0.6603145\"'}\n"
          ]
        }
      ]
    },
    {
      "cell_type": "code",
      "source": [
        ""
      ],
      "metadata": {
        "id": "cKbFFqi2ybub"
      },
      "execution_count": null,
      "outputs": []
    }
  ]
}