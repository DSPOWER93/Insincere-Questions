{
  "nbformat": 4,
  "nbformat_minor": 0,
  "metadata": {
    "accelerator": "GPU",
    "colab": {
      "name": "Distilbert Classifier- Insincere Questions.ipynb",
      "provenance": [],
      "collapsed_sections": [],
      "machine_shape": "hm",
      "authorship_tag": "ABX9TyO7tw9xCTFFR2QbY75R+fL+",
      "include_colab_link": true
    },
    "kernelspec": {
      "display_name": "Python 3",
      "name": "python3"
    },
    "language_info": {
      "name": "python"
    },
    "widgets": {
      "application/vnd.jupyter.widget-state+json": {
        "28aa42183c96462bb9118bc4a2ac2514": {
          "model_module": "@jupyter-widgets/controls",
          "model_name": "HBoxModel",
          "model_module_version": "1.5.0",
          "state": {
            "_view_name": "HBoxView",
            "_dom_classes": [],
            "_model_name": "HBoxModel",
            "_view_module": "@jupyter-widgets/controls",
            "_model_module_version": "1.5.0",
            "_view_count": null,
            "_view_module_version": "1.5.0",
            "box_style": "",
            "layout": "IPY_MODEL_13ed9536856c4cab9e4276f51b232f1d",
            "_model_module": "@jupyter-widgets/controls",
            "children": [
              "IPY_MODEL_35048246aed845618b6509f0a4e9514c",
              "IPY_MODEL_adcb0ce5724d4f8ea1568eb19d8f9fc3",
              "IPY_MODEL_fd2e5c3a5e36455bb5eb9b92922a6519"
            ]
          }
        },
        "13ed9536856c4cab9e4276f51b232f1d": {
          "model_module": "@jupyter-widgets/base",
          "model_name": "LayoutModel",
          "model_module_version": "1.2.0",
          "state": {
            "_view_name": "LayoutView",
            "grid_template_rows": null,
            "right": null,
            "justify_content": null,
            "_view_module": "@jupyter-widgets/base",
            "overflow": null,
            "_model_module_version": "1.2.0",
            "_view_count": null,
            "flex_flow": null,
            "width": null,
            "min_width": null,
            "border": null,
            "align_items": null,
            "bottom": null,
            "_model_module": "@jupyter-widgets/base",
            "top": null,
            "grid_column": null,
            "overflow_y": null,
            "overflow_x": null,
            "grid_auto_flow": null,
            "grid_area": null,
            "grid_template_columns": null,
            "flex": null,
            "_model_name": "LayoutModel",
            "justify_items": null,
            "grid_row": null,
            "max_height": null,
            "align_content": null,
            "visibility": null,
            "align_self": null,
            "height": null,
            "min_height": null,
            "padding": null,
            "grid_auto_rows": null,
            "grid_gap": null,
            "max_width": null,
            "order": null,
            "_view_module_version": "1.2.0",
            "grid_template_areas": null,
            "object_position": null,
            "object_fit": null,
            "grid_auto_columns": null,
            "margin": null,
            "display": null,
            "left": null
          }
        },
        "35048246aed845618b6509f0a4e9514c": {
          "model_module": "@jupyter-widgets/controls",
          "model_name": "HTMLModel",
          "model_module_version": "1.5.0",
          "state": {
            "_view_name": "HTMLView",
            "style": "IPY_MODEL_6db5c60a164d4eb2aae96b546ea5c845",
            "_dom_classes": [],
            "description": "",
            "_model_name": "HTMLModel",
            "placeholder": "​",
            "_view_module": "@jupyter-widgets/controls",
            "_model_module_version": "1.5.0",
            "value": "Downloading: 100%",
            "_view_count": null,
            "_view_module_version": "1.5.0",
            "description_tooltip": null,
            "_model_module": "@jupyter-widgets/controls",
            "layout": "IPY_MODEL_efde14eb9b9548788cc2d123c35f286e"
          }
        },
        "adcb0ce5724d4f8ea1568eb19d8f9fc3": {
          "model_module": "@jupyter-widgets/controls",
          "model_name": "FloatProgressModel",
          "model_module_version": "1.5.0",
          "state": {
            "_view_name": "ProgressView",
            "style": "IPY_MODEL_74da972d199447198e881bdfac071122",
            "_dom_classes": [],
            "description": "",
            "_model_name": "FloatProgressModel",
            "bar_style": "success",
            "max": 231508,
            "_view_module": "@jupyter-widgets/controls",
            "_model_module_version": "1.5.0",
            "value": 231508,
            "_view_count": null,
            "_view_module_version": "1.5.0",
            "orientation": "horizontal",
            "min": 0,
            "description_tooltip": null,
            "_model_module": "@jupyter-widgets/controls",
            "layout": "IPY_MODEL_230f2cd6b81e4941a9a841cc20ab14bf"
          }
        },
        "fd2e5c3a5e36455bb5eb9b92922a6519": {
          "model_module": "@jupyter-widgets/controls",
          "model_name": "HTMLModel",
          "model_module_version": "1.5.0",
          "state": {
            "_view_name": "HTMLView",
            "style": "IPY_MODEL_04c54c0f5599447dbce4016fc6692304",
            "_dom_classes": [],
            "description": "",
            "_model_name": "HTMLModel",
            "placeholder": "​",
            "_view_module": "@jupyter-widgets/controls",
            "_model_module_version": "1.5.0",
            "value": " 226k/226k [00:00&lt;00:00, 2.87MB/s]",
            "_view_count": null,
            "_view_module_version": "1.5.0",
            "description_tooltip": null,
            "_model_module": "@jupyter-widgets/controls",
            "layout": "IPY_MODEL_4bebf70859944d95a8d75ff85f732517"
          }
        },
        "6db5c60a164d4eb2aae96b546ea5c845": {
          "model_module": "@jupyter-widgets/controls",
          "model_name": "DescriptionStyleModel",
          "model_module_version": "1.5.0",
          "state": {
            "_view_name": "StyleView",
            "_model_name": "DescriptionStyleModel",
            "description_width": "",
            "_view_module": "@jupyter-widgets/base",
            "_model_module_version": "1.5.0",
            "_view_count": null,
            "_view_module_version": "1.2.0",
            "_model_module": "@jupyter-widgets/controls"
          }
        },
        "efde14eb9b9548788cc2d123c35f286e": {
          "model_module": "@jupyter-widgets/base",
          "model_name": "LayoutModel",
          "model_module_version": "1.2.0",
          "state": {
            "_view_name": "LayoutView",
            "grid_template_rows": null,
            "right": null,
            "justify_content": null,
            "_view_module": "@jupyter-widgets/base",
            "overflow": null,
            "_model_module_version": "1.2.0",
            "_view_count": null,
            "flex_flow": null,
            "width": null,
            "min_width": null,
            "border": null,
            "align_items": null,
            "bottom": null,
            "_model_module": "@jupyter-widgets/base",
            "top": null,
            "grid_column": null,
            "overflow_y": null,
            "overflow_x": null,
            "grid_auto_flow": null,
            "grid_area": null,
            "grid_template_columns": null,
            "flex": null,
            "_model_name": "LayoutModel",
            "justify_items": null,
            "grid_row": null,
            "max_height": null,
            "align_content": null,
            "visibility": null,
            "align_self": null,
            "height": null,
            "min_height": null,
            "padding": null,
            "grid_auto_rows": null,
            "grid_gap": null,
            "max_width": null,
            "order": null,
            "_view_module_version": "1.2.0",
            "grid_template_areas": null,
            "object_position": null,
            "object_fit": null,
            "grid_auto_columns": null,
            "margin": null,
            "display": null,
            "left": null
          }
        },
        "74da972d199447198e881bdfac071122": {
          "model_module": "@jupyter-widgets/controls",
          "model_name": "ProgressStyleModel",
          "model_module_version": "1.5.0",
          "state": {
            "_view_name": "StyleView",
            "_model_name": "ProgressStyleModel",
            "description_width": "",
            "_view_module": "@jupyter-widgets/base",
            "_model_module_version": "1.5.0",
            "_view_count": null,
            "_view_module_version": "1.2.0",
            "bar_color": null,
            "_model_module": "@jupyter-widgets/controls"
          }
        },
        "230f2cd6b81e4941a9a841cc20ab14bf": {
          "model_module": "@jupyter-widgets/base",
          "model_name": "LayoutModel",
          "model_module_version": "1.2.0",
          "state": {
            "_view_name": "LayoutView",
            "grid_template_rows": null,
            "right": null,
            "justify_content": null,
            "_view_module": "@jupyter-widgets/base",
            "overflow": null,
            "_model_module_version": "1.2.0",
            "_view_count": null,
            "flex_flow": null,
            "width": null,
            "min_width": null,
            "border": null,
            "align_items": null,
            "bottom": null,
            "_model_module": "@jupyter-widgets/base",
            "top": null,
            "grid_column": null,
            "overflow_y": null,
            "overflow_x": null,
            "grid_auto_flow": null,
            "grid_area": null,
            "grid_template_columns": null,
            "flex": null,
            "_model_name": "LayoutModel",
            "justify_items": null,
            "grid_row": null,
            "max_height": null,
            "align_content": null,
            "visibility": null,
            "align_self": null,
            "height": null,
            "min_height": null,
            "padding": null,
            "grid_auto_rows": null,
            "grid_gap": null,
            "max_width": null,
            "order": null,
            "_view_module_version": "1.2.0",
            "grid_template_areas": null,
            "object_position": null,
            "object_fit": null,
            "grid_auto_columns": null,
            "margin": null,
            "display": null,
            "left": null
          }
        },
        "04c54c0f5599447dbce4016fc6692304": {
          "model_module": "@jupyter-widgets/controls",
          "model_name": "DescriptionStyleModel",
          "model_module_version": "1.5.0",
          "state": {
            "_view_name": "StyleView",
            "_model_name": "DescriptionStyleModel",
            "description_width": "",
            "_view_module": "@jupyter-widgets/base",
            "_model_module_version": "1.5.0",
            "_view_count": null,
            "_view_module_version": "1.2.0",
            "_model_module": "@jupyter-widgets/controls"
          }
        },
        "4bebf70859944d95a8d75ff85f732517": {
          "model_module": "@jupyter-widgets/base",
          "model_name": "LayoutModel",
          "model_module_version": "1.2.0",
          "state": {
            "_view_name": "LayoutView",
            "grid_template_rows": null,
            "right": null,
            "justify_content": null,
            "_view_module": "@jupyter-widgets/base",
            "overflow": null,
            "_model_module_version": "1.2.0",
            "_view_count": null,
            "flex_flow": null,
            "width": null,
            "min_width": null,
            "border": null,
            "align_items": null,
            "bottom": null,
            "_model_module": "@jupyter-widgets/base",
            "top": null,
            "grid_column": null,
            "overflow_y": null,
            "overflow_x": null,
            "grid_auto_flow": null,
            "grid_area": null,
            "grid_template_columns": null,
            "flex": null,
            "_model_name": "LayoutModel",
            "justify_items": null,
            "grid_row": null,
            "max_height": null,
            "align_content": null,
            "visibility": null,
            "align_self": null,
            "height": null,
            "min_height": null,
            "padding": null,
            "grid_auto_rows": null,
            "grid_gap": null,
            "max_width": null,
            "order": null,
            "_view_module_version": "1.2.0",
            "grid_template_areas": null,
            "object_position": null,
            "object_fit": null,
            "grid_auto_columns": null,
            "margin": null,
            "display": null,
            "left": null
          }
        },
        "41c118c76a74419da40ef192a4006c4b": {
          "model_module": "@jupyter-widgets/controls",
          "model_name": "HBoxModel",
          "model_module_version": "1.5.0",
          "state": {
            "_view_name": "HBoxView",
            "_dom_classes": [],
            "_model_name": "HBoxModel",
            "_view_module": "@jupyter-widgets/controls",
            "_model_module_version": "1.5.0",
            "_view_count": null,
            "_view_module_version": "1.5.0",
            "box_style": "",
            "layout": "IPY_MODEL_b346b7ad7b224a02bd2613c373bb229e",
            "_model_module": "@jupyter-widgets/controls",
            "children": [
              "IPY_MODEL_c6d888b7afa8442ab6a40ef83cab9d4a",
              "IPY_MODEL_41842b966544453f849f3681f3e506e1",
              "IPY_MODEL_e30eea3619ff4f248ac80cf260705e6e"
            ]
          }
        },
        "b346b7ad7b224a02bd2613c373bb229e": {
          "model_module": "@jupyter-widgets/base",
          "model_name": "LayoutModel",
          "model_module_version": "1.2.0",
          "state": {
            "_view_name": "LayoutView",
            "grid_template_rows": null,
            "right": null,
            "justify_content": null,
            "_view_module": "@jupyter-widgets/base",
            "overflow": null,
            "_model_module_version": "1.2.0",
            "_view_count": null,
            "flex_flow": null,
            "width": null,
            "min_width": null,
            "border": null,
            "align_items": null,
            "bottom": null,
            "_model_module": "@jupyter-widgets/base",
            "top": null,
            "grid_column": null,
            "overflow_y": null,
            "overflow_x": null,
            "grid_auto_flow": null,
            "grid_area": null,
            "grid_template_columns": null,
            "flex": null,
            "_model_name": "LayoutModel",
            "justify_items": null,
            "grid_row": null,
            "max_height": null,
            "align_content": null,
            "visibility": null,
            "align_self": null,
            "height": null,
            "min_height": null,
            "padding": null,
            "grid_auto_rows": null,
            "grid_gap": null,
            "max_width": null,
            "order": null,
            "_view_module_version": "1.2.0",
            "grid_template_areas": null,
            "object_position": null,
            "object_fit": null,
            "grid_auto_columns": null,
            "margin": null,
            "display": null,
            "left": null
          }
        },
        "c6d888b7afa8442ab6a40ef83cab9d4a": {
          "model_module": "@jupyter-widgets/controls",
          "model_name": "HTMLModel",
          "model_module_version": "1.5.0",
          "state": {
            "_view_name": "HTMLView",
            "style": "IPY_MODEL_5cc7317e288c42b0b49ec13d53c4ba45",
            "_dom_classes": [],
            "description": "",
            "_model_name": "HTMLModel",
            "placeholder": "​",
            "_view_module": "@jupyter-widgets/controls",
            "_model_module_version": "1.5.0",
            "value": "Downloading: 100%",
            "_view_count": null,
            "_view_module_version": "1.5.0",
            "description_tooltip": null,
            "_model_module": "@jupyter-widgets/controls",
            "layout": "IPY_MODEL_3b6ef3cca7434fea917e50f5971aab37"
          }
        },
        "41842b966544453f849f3681f3e506e1": {
          "model_module": "@jupyter-widgets/controls",
          "model_name": "FloatProgressModel",
          "model_module_version": "1.5.0",
          "state": {
            "_view_name": "ProgressView",
            "style": "IPY_MODEL_eac0b2b5e9ec40d39ee2425f9632bd8b",
            "_dom_classes": [],
            "description": "",
            "_model_name": "FloatProgressModel",
            "bar_style": "success",
            "max": 466062,
            "_view_module": "@jupyter-widgets/controls",
            "_model_module_version": "1.5.0",
            "value": 466062,
            "_view_count": null,
            "_view_module_version": "1.5.0",
            "orientation": "horizontal",
            "min": 0,
            "description_tooltip": null,
            "_model_module": "@jupyter-widgets/controls",
            "layout": "IPY_MODEL_4824eaa076d14944aefaefdd36e5052a"
          }
        },
        "e30eea3619ff4f248ac80cf260705e6e": {
          "model_module": "@jupyter-widgets/controls",
          "model_name": "HTMLModel",
          "model_module_version": "1.5.0",
          "state": {
            "_view_name": "HTMLView",
            "style": "IPY_MODEL_96d419d8c61f44a487df24f6496426a6",
            "_dom_classes": [],
            "description": "",
            "_model_name": "HTMLModel",
            "placeholder": "​",
            "_view_module": "@jupyter-widgets/controls",
            "_model_module_version": "1.5.0",
            "value": " 455k/455k [00:00&lt;00:00, 3.58MB/s]",
            "_view_count": null,
            "_view_module_version": "1.5.0",
            "description_tooltip": null,
            "_model_module": "@jupyter-widgets/controls",
            "layout": "IPY_MODEL_001c3f26348843eab5a32daf76f8b313"
          }
        },
        "5cc7317e288c42b0b49ec13d53c4ba45": {
          "model_module": "@jupyter-widgets/controls",
          "model_name": "DescriptionStyleModel",
          "model_module_version": "1.5.0",
          "state": {
            "_view_name": "StyleView",
            "_model_name": "DescriptionStyleModel",
            "description_width": "",
            "_view_module": "@jupyter-widgets/base",
            "_model_module_version": "1.5.0",
            "_view_count": null,
            "_view_module_version": "1.2.0",
            "_model_module": "@jupyter-widgets/controls"
          }
        },
        "3b6ef3cca7434fea917e50f5971aab37": {
          "model_module": "@jupyter-widgets/base",
          "model_name": "LayoutModel",
          "model_module_version": "1.2.0",
          "state": {
            "_view_name": "LayoutView",
            "grid_template_rows": null,
            "right": null,
            "justify_content": null,
            "_view_module": "@jupyter-widgets/base",
            "overflow": null,
            "_model_module_version": "1.2.0",
            "_view_count": null,
            "flex_flow": null,
            "width": null,
            "min_width": null,
            "border": null,
            "align_items": null,
            "bottom": null,
            "_model_module": "@jupyter-widgets/base",
            "top": null,
            "grid_column": null,
            "overflow_y": null,
            "overflow_x": null,
            "grid_auto_flow": null,
            "grid_area": null,
            "grid_template_columns": null,
            "flex": null,
            "_model_name": "LayoutModel",
            "justify_items": null,
            "grid_row": null,
            "max_height": null,
            "align_content": null,
            "visibility": null,
            "align_self": null,
            "height": null,
            "min_height": null,
            "padding": null,
            "grid_auto_rows": null,
            "grid_gap": null,
            "max_width": null,
            "order": null,
            "_view_module_version": "1.2.0",
            "grid_template_areas": null,
            "object_position": null,
            "object_fit": null,
            "grid_auto_columns": null,
            "margin": null,
            "display": null,
            "left": null
          }
        },
        "eac0b2b5e9ec40d39ee2425f9632bd8b": {
          "model_module": "@jupyter-widgets/controls",
          "model_name": "ProgressStyleModel",
          "model_module_version": "1.5.0",
          "state": {
            "_view_name": "StyleView",
            "_model_name": "ProgressStyleModel",
            "description_width": "",
            "_view_module": "@jupyter-widgets/base",
            "_model_module_version": "1.5.0",
            "_view_count": null,
            "_view_module_version": "1.2.0",
            "bar_color": null,
            "_model_module": "@jupyter-widgets/controls"
          }
        },
        "4824eaa076d14944aefaefdd36e5052a": {
          "model_module": "@jupyter-widgets/base",
          "model_name": "LayoutModel",
          "model_module_version": "1.2.0",
          "state": {
            "_view_name": "LayoutView",
            "grid_template_rows": null,
            "right": null,
            "justify_content": null,
            "_view_module": "@jupyter-widgets/base",
            "overflow": null,
            "_model_module_version": "1.2.0",
            "_view_count": null,
            "flex_flow": null,
            "width": null,
            "min_width": null,
            "border": null,
            "align_items": null,
            "bottom": null,
            "_model_module": "@jupyter-widgets/base",
            "top": null,
            "grid_column": null,
            "overflow_y": null,
            "overflow_x": null,
            "grid_auto_flow": null,
            "grid_area": null,
            "grid_template_columns": null,
            "flex": null,
            "_model_name": "LayoutModel",
            "justify_items": null,
            "grid_row": null,
            "max_height": null,
            "align_content": null,
            "visibility": null,
            "align_self": null,
            "height": null,
            "min_height": null,
            "padding": null,
            "grid_auto_rows": null,
            "grid_gap": null,
            "max_width": null,
            "order": null,
            "_view_module_version": "1.2.0",
            "grid_template_areas": null,
            "object_position": null,
            "object_fit": null,
            "grid_auto_columns": null,
            "margin": null,
            "display": null,
            "left": null
          }
        },
        "96d419d8c61f44a487df24f6496426a6": {
          "model_module": "@jupyter-widgets/controls",
          "model_name": "DescriptionStyleModel",
          "model_module_version": "1.5.0",
          "state": {
            "_view_name": "StyleView",
            "_model_name": "DescriptionStyleModel",
            "description_width": "",
            "_view_module": "@jupyter-widgets/base",
            "_model_module_version": "1.5.0",
            "_view_count": null,
            "_view_module_version": "1.2.0",
            "_model_module": "@jupyter-widgets/controls"
          }
        },
        "001c3f26348843eab5a32daf76f8b313": {
          "model_module": "@jupyter-widgets/base",
          "model_name": "LayoutModel",
          "model_module_version": "1.2.0",
          "state": {
            "_view_name": "LayoutView",
            "grid_template_rows": null,
            "right": null,
            "justify_content": null,
            "_view_module": "@jupyter-widgets/base",
            "overflow": null,
            "_model_module_version": "1.2.0",
            "_view_count": null,
            "flex_flow": null,
            "width": null,
            "min_width": null,
            "border": null,
            "align_items": null,
            "bottom": null,
            "_model_module": "@jupyter-widgets/base",
            "top": null,
            "grid_column": null,
            "overflow_y": null,
            "overflow_x": null,
            "grid_auto_flow": null,
            "grid_area": null,
            "grid_template_columns": null,
            "flex": null,
            "_model_name": "LayoutModel",
            "justify_items": null,
            "grid_row": null,
            "max_height": null,
            "align_content": null,
            "visibility": null,
            "align_self": null,
            "height": null,
            "min_height": null,
            "padding": null,
            "grid_auto_rows": null,
            "grid_gap": null,
            "max_width": null,
            "order": null,
            "_view_module_version": "1.2.0",
            "grid_template_areas": null,
            "object_position": null,
            "object_fit": null,
            "grid_auto_columns": null,
            "margin": null,
            "display": null,
            "left": null
          }
        },
        "30f044ce9ec04197bb11ce06dc5f3071": {
          "model_module": "@jupyter-widgets/controls",
          "model_name": "HBoxModel",
          "model_module_version": "1.5.0",
          "state": {
            "_view_name": "HBoxView",
            "_dom_classes": [],
            "_model_name": "HBoxModel",
            "_view_module": "@jupyter-widgets/controls",
            "_model_module_version": "1.5.0",
            "_view_count": null,
            "_view_module_version": "1.5.0",
            "box_style": "",
            "layout": "IPY_MODEL_7a6e9fa6a6ee49ffabf6e5848659597e",
            "_model_module": "@jupyter-widgets/controls",
            "children": [
              "IPY_MODEL_38ee5134193347edab8ad597be88951a",
              "IPY_MODEL_f2cf1d171e0f4e30a0b055641746060c",
              "IPY_MODEL_836c7a7059b048f0836bf7aebd107566"
            ]
          }
        },
        "7a6e9fa6a6ee49ffabf6e5848659597e": {
          "model_module": "@jupyter-widgets/base",
          "model_name": "LayoutModel",
          "model_module_version": "1.2.0",
          "state": {
            "_view_name": "LayoutView",
            "grid_template_rows": null,
            "right": null,
            "justify_content": null,
            "_view_module": "@jupyter-widgets/base",
            "overflow": null,
            "_model_module_version": "1.2.0",
            "_view_count": null,
            "flex_flow": null,
            "width": null,
            "min_width": null,
            "border": null,
            "align_items": null,
            "bottom": null,
            "_model_module": "@jupyter-widgets/base",
            "top": null,
            "grid_column": null,
            "overflow_y": null,
            "overflow_x": null,
            "grid_auto_flow": null,
            "grid_area": null,
            "grid_template_columns": null,
            "flex": null,
            "_model_name": "LayoutModel",
            "justify_items": null,
            "grid_row": null,
            "max_height": null,
            "align_content": null,
            "visibility": null,
            "align_self": null,
            "height": null,
            "min_height": null,
            "padding": null,
            "grid_auto_rows": null,
            "grid_gap": null,
            "max_width": null,
            "order": null,
            "_view_module_version": "1.2.0",
            "grid_template_areas": null,
            "object_position": null,
            "object_fit": null,
            "grid_auto_columns": null,
            "margin": null,
            "display": null,
            "left": null
          }
        },
        "38ee5134193347edab8ad597be88951a": {
          "model_module": "@jupyter-widgets/controls",
          "model_name": "HTMLModel",
          "model_module_version": "1.5.0",
          "state": {
            "_view_name": "HTMLView",
            "style": "IPY_MODEL_7ac0685038764fa0b564696b026c6b69",
            "_dom_classes": [],
            "description": "",
            "_model_name": "HTMLModel",
            "placeholder": "​",
            "_view_module": "@jupyter-widgets/controls",
            "_model_module_version": "1.5.0",
            "value": "Downloading: 100%",
            "_view_count": null,
            "_view_module_version": "1.5.0",
            "description_tooltip": null,
            "_model_module": "@jupyter-widgets/controls",
            "layout": "IPY_MODEL_320d85eaefd8488db9b2fd3bfdec835f"
          }
        },
        "f2cf1d171e0f4e30a0b055641746060c": {
          "model_module": "@jupyter-widgets/controls",
          "model_name": "FloatProgressModel",
          "model_module_version": "1.5.0",
          "state": {
            "_view_name": "ProgressView",
            "style": "IPY_MODEL_ee22adcd877248eb861cf8e6a2692bf5",
            "_dom_classes": [],
            "description": "",
            "_model_name": "FloatProgressModel",
            "bar_style": "success",
            "max": 28,
            "_view_module": "@jupyter-widgets/controls",
            "_model_module_version": "1.5.0",
            "value": 28,
            "_view_count": null,
            "_view_module_version": "1.5.0",
            "orientation": "horizontal",
            "min": 0,
            "description_tooltip": null,
            "_model_module": "@jupyter-widgets/controls",
            "layout": "IPY_MODEL_8674178e749345c8a2047834a9a99be8"
          }
        },
        "836c7a7059b048f0836bf7aebd107566": {
          "model_module": "@jupyter-widgets/controls",
          "model_name": "HTMLModel",
          "model_module_version": "1.5.0",
          "state": {
            "_view_name": "HTMLView",
            "style": "IPY_MODEL_d6fb66ed96f64cc18b871bdd063d503c",
            "_dom_classes": [],
            "description": "",
            "_model_name": "HTMLModel",
            "placeholder": "​",
            "_view_module": "@jupyter-widgets/controls",
            "_model_module_version": "1.5.0",
            "value": " 28.0/28.0 [00:00&lt;00:00, 708B/s]",
            "_view_count": null,
            "_view_module_version": "1.5.0",
            "description_tooltip": null,
            "_model_module": "@jupyter-widgets/controls",
            "layout": "IPY_MODEL_aa5bf81a530344ceb5420a23d000a264"
          }
        },
        "7ac0685038764fa0b564696b026c6b69": {
          "model_module": "@jupyter-widgets/controls",
          "model_name": "DescriptionStyleModel",
          "model_module_version": "1.5.0",
          "state": {
            "_view_name": "StyleView",
            "_model_name": "DescriptionStyleModel",
            "description_width": "",
            "_view_module": "@jupyter-widgets/base",
            "_model_module_version": "1.5.0",
            "_view_count": null,
            "_view_module_version": "1.2.0",
            "_model_module": "@jupyter-widgets/controls"
          }
        },
        "320d85eaefd8488db9b2fd3bfdec835f": {
          "model_module": "@jupyter-widgets/base",
          "model_name": "LayoutModel",
          "model_module_version": "1.2.0",
          "state": {
            "_view_name": "LayoutView",
            "grid_template_rows": null,
            "right": null,
            "justify_content": null,
            "_view_module": "@jupyter-widgets/base",
            "overflow": null,
            "_model_module_version": "1.2.0",
            "_view_count": null,
            "flex_flow": null,
            "width": null,
            "min_width": null,
            "border": null,
            "align_items": null,
            "bottom": null,
            "_model_module": "@jupyter-widgets/base",
            "top": null,
            "grid_column": null,
            "overflow_y": null,
            "overflow_x": null,
            "grid_auto_flow": null,
            "grid_area": null,
            "grid_template_columns": null,
            "flex": null,
            "_model_name": "LayoutModel",
            "justify_items": null,
            "grid_row": null,
            "max_height": null,
            "align_content": null,
            "visibility": null,
            "align_self": null,
            "height": null,
            "min_height": null,
            "padding": null,
            "grid_auto_rows": null,
            "grid_gap": null,
            "max_width": null,
            "order": null,
            "_view_module_version": "1.2.0",
            "grid_template_areas": null,
            "object_position": null,
            "object_fit": null,
            "grid_auto_columns": null,
            "margin": null,
            "display": null,
            "left": null
          }
        },
        "ee22adcd877248eb861cf8e6a2692bf5": {
          "model_module": "@jupyter-widgets/controls",
          "model_name": "ProgressStyleModel",
          "model_module_version": "1.5.0",
          "state": {
            "_view_name": "StyleView",
            "_model_name": "ProgressStyleModel",
            "description_width": "",
            "_view_module": "@jupyter-widgets/base",
            "_model_module_version": "1.5.0",
            "_view_count": null,
            "_view_module_version": "1.2.0",
            "bar_color": null,
            "_model_module": "@jupyter-widgets/controls"
          }
        },
        "8674178e749345c8a2047834a9a99be8": {
          "model_module": "@jupyter-widgets/base",
          "model_name": "LayoutModel",
          "model_module_version": "1.2.0",
          "state": {
            "_view_name": "LayoutView",
            "grid_template_rows": null,
            "right": null,
            "justify_content": null,
            "_view_module": "@jupyter-widgets/base",
            "overflow": null,
            "_model_module_version": "1.2.0",
            "_view_count": null,
            "flex_flow": null,
            "width": null,
            "min_width": null,
            "border": null,
            "align_items": null,
            "bottom": null,
            "_model_module": "@jupyter-widgets/base",
            "top": null,
            "grid_column": null,
            "overflow_y": null,
            "overflow_x": null,
            "grid_auto_flow": null,
            "grid_area": null,
            "grid_template_columns": null,
            "flex": null,
            "_model_name": "LayoutModel",
            "justify_items": null,
            "grid_row": null,
            "max_height": null,
            "align_content": null,
            "visibility": null,
            "align_self": null,
            "height": null,
            "min_height": null,
            "padding": null,
            "grid_auto_rows": null,
            "grid_gap": null,
            "max_width": null,
            "order": null,
            "_view_module_version": "1.2.0",
            "grid_template_areas": null,
            "object_position": null,
            "object_fit": null,
            "grid_auto_columns": null,
            "margin": null,
            "display": null,
            "left": null
          }
        },
        "d6fb66ed96f64cc18b871bdd063d503c": {
          "model_module": "@jupyter-widgets/controls",
          "model_name": "DescriptionStyleModel",
          "model_module_version": "1.5.0",
          "state": {
            "_view_name": "StyleView",
            "_model_name": "DescriptionStyleModel",
            "description_width": "",
            "_view_module": "@jupyter-widgets/base",
            "_model_module_version": "1.5.0",
            "_view_count": null,
            "_view_module_version": "1.2.0",
            "_model_module": "@jupyter-widgets/controls"
          }
        },
        "aa5bf81a530344ceb5420a23d000a264": {
          "model_module": "@jupyter-widgets/base",
          "model_name": "LayoutModel",
          "model_module_version": "1.2.0",
          "state": {
            "_view_name": "LayoutView",
            "grid_template_rows": null,
            "right": null,
            "justify_content": null,
            "_view_module": "@jupyter-widgets/base",
            "overflow": null,
            "_model_module_version": "1.2.0",
            "_view_count": null,
            "flex_flow": null,
            "width": null,
            "min_width": null,
            "border": null,
            "align_items": null,
            "bottom": null,
            "_model_module": "@jupyter-widgets/base",
            "top": null,
            "grid_column": null,
            "overflow_y": null,
            "overflow_x": null,
            "grid_auto_flow": null,
            "grid_area": null,
            "grid_template_columns": null,
            "flex": null,
            "_model_name": "LayoutModel",
            "justify_items": null,
            "grid_row": null,
            "max_height": null,
            "align_content": null,
            "visibility": null,
            "align_self": null,
            "height": null,
            "min_height": null,
            "padding": null,
            "grid_auto_rows": null,
            "grid_gap": null,
            "max_width": null,
            "order": null,
            "_view_module_version": "1.2.0",
            "grid_template_areas": null,
            "object_position": null,
            "object_fit": null,
            "grid_auto_columns": null,
            "margin": null,
            "display": null,
            "left": null
          }
        },
        "95a835e5c6574b478b75f05b51c72a7a": {
          "model_module": "@jupyter-widgets/controls",
          "model_name": "HBoxModel",
          "model_module_version": "1.5.0",
          "state": {
            "_view_name": "HBoxView",
            "_dom_classes": [],
            "_model_name": "HBoxModel",
            "_view_module": "@jupyter-widgets/controls",
            "_model_module_version": "1.5.0",
            "_view_count": null,
            "_view_module_version": "1.5.0",
            "box_style": "",
            "layout": "IPY_MODEL_3ae04c547d1e402d85559d41c7b2c997",
            "_model_module": "@jupyter-widgets/controls",
            "children": [
              "IPY_MODEL_d1af102ec43140039d6e381bb80cc028",
              "IPY_MODEL_07fdd838c2144931a3db2dd67f1da41f",
              "IPY_MODEL_68857d2ecee74a269cd61772b55d43ea"
            ]
          }
        },
        "3ae04c547d1e402d85559d41c7b2c997": {
          "model_module": "@jupyter-widgets/base",
          "model_name": "LayoutModel",
          "model_module_version": "1.2.0",
          "state": {
            "_view_name": "LayoutView",
            "grid_template_rows": null,
            "right": null,
            "justify_content": null,
            "_view_module": "@jupyter-widgets/base",
            "overflow": null,
            "_model_module_version": "1.2.0",
            "_view_count": null,
            "flex_flow": null,
            "width": null,
            "min_width": null,
            "border": null,
            "align_items": null,
            "bottom": null,
            "_model_module": "@jupyter-widgets/base",
            "top": null,
            "grid_column": null,
            "overflow_y": null,
            "overflow_x": null,
            "grid_auto_flow": null,
            "grid_area": null,
            "grid_template_columns": null,
            "flex": null,
            "_model_name": "LayoutModel",
            "justify_items": null,
            "grid_row": null,
            "max_height": null,
            "align_content": null,
            "visibility": null,
            "align_self": null,
            "height": null,
            "min_height": null,
            "padding": null,
            "grid_auto_rows": null,
            "grid_gap": null,
            "max_width": null,
            "order": null,
            "_view_module_version": "1.2.0",
            "grid_template_areas": null,
            "object_position": null,
            "object_fit": null,
            "grid_auto_columns": null,
            "margin": null,
            "display": null,
            "left": null
          }
        },
        "d1af102ec43140039d6e381bb80cc028": {
          "model_module": "@jupyter-widgets/controls",
          "model_name": "HTMLModel",
          "model_module_version": "1.5.0",
          "state": {
            "_view_name": "HTMLView",
            "style": "IPY_MODEL_89ee9a24628349d8b7c54f2fb112d41c",
            "_dom_classes": [],
            "description": "",
            "_model_name": "HTMLModel",
            "placeholder": "​",
            "_view_module": "@jupyter-widgets/controls",
            "_model_module_version": "1.5.0",
            "value": "Downloading: 100%",
            "_view_count": null,
            "_view_module_version": "1.5.0",
            "description_tooltip": null,
            "_model_module": "@jupyter-widgets/controls",
            "layout": "IPY_MODEL_279bcf3451654ea281f8855a0241101d"
          }
        },
        "07fdd838c2144931a3db2dd67f1da41f": {
          "model_module": "@jupyter-widgets/controls",
          "model_name": "FloatProgressModel",
          "model_module_version": "1.5.0",
          "state": {
            "_view_name": "ProgressView",
            "style": "IPY_MODEL_41a3d3d0aa1244a1b266a9c925203d37",
            "_dom_classes": [],
            "description": "",
            "_model_name": "FloatProgressModel",
            "bar_style": "success",
            "max": 483,
            "_view_module": "@jupyter-widgets/controls",
            "_model_module_version": "1.5.0",
            "value": 483,
            "_view_count": null,
            "_view_module_version": "1.5.0",
            "orientation": "horizontal",
            "min": 0,
            "description_tooltip": null,
            "_model_module": "@jupyter-widgets/controls",
            "layout": "IPY_MODEL_7954ff498b464db591c03649cbdf03cd"
          }
        },
        "68857d2ecee74a269cd61772b55d43ea": {
          "model_module": "@jupyter-widgets/controls",
          "model_name": "HTMLModel",
          "model_module_version": "1.5.0",
          "state": {
            "_view_name": "HTMLView",
            "style": "IPY_MODEL_7f59004b94aa4a13a909d4587defd832",
            "_dom_classes": [],
            "description": "",
            "_model_name": "HTMLModel",
            "placeholder": "​",
            "_view_module": "@jupyter-widgets/controls",
            "_model_module_version": "1.5.0",
            "value": " 483/483 [00:00&lt;00:00, 14.3kB/s]",
            "_view_count": null,
            "_view_module_version": "1.5.0",
            "description_tooltip": null,
            "_model_module": "@jupyter-widgets/controls",
            "layout": "IPY_MODEL_3576c4eb924f4f7b9fba2fac8149784e"
          }
        },
        "89ee9a24628349d8b7c54f2fb112d41c": {
          "model_module": "@jupyter-widgets/controls",
          "model_name": "DescriptionStyleModel",
          "model_module_version": "1.5.0",
          "state": {
            "_view_name": "StyleView",
            "_model_name": "DescriptionStyleModel",
            "description_width": "",
            "_view_module": "@jupyter-widgets/base",
            "_model_module_version": "1.5.0",
            "_view_count": null,
            "_view_module_version": "1.2.0",
            "_model_module": "@jupyter-widgets/controls"
          }
        },
        "279bcf3451654ea281f8855a0241101d": {
          "model_module": "@jupyter-widgets/base",
          "model_name": "LayoutModel",
          "model_module_version": "1.2.0",
          "state": {
            "_view_name": "LayoutView",
            "grid_template_rows": null,
            "right": null,
            "justify_content": null,
            "_view_module": "@jupyter-widgets/base",
            "overflow": null,
            "_model_module_version": "1.2.0",
            "_view_count": null,
            "flex_flow": null,
            "width": null,
            "min_width": null,
            "border": null,
            "align_items": null,
            "bottom": null,
            "_model_module": "@jupyter-widgets/base",
            "top": null,
            "grid_column": null,
            "overflow_y": null,
            "overflow_x": null,
            "grid_auto_flow": null,
            "grid_area": null,
            "grid_template_columns": null,
            "flex": null,
            "_model_name": "LayoutModel",
            "justify_items": null,
            "grid_row": null,
            "max_height": null,
            "align_content": null,
            "visibility": null,
            "align_self": null,
            "height": null,
            "min_height": null,
            "padding": null,
            "grid_auto_rows": null,
            "grid_gap": null,
            "max_width": null,
            "order": null,
            "_view_module_version": "1.2.0",
            "grid_template_areas": null,
            "object_position": null,
            "object_fit": null,
            "grid_auto_columns": null,
            "margin": null,
            "display": null,
            "left": null
          }
        },
        "41a3d3d0aa1244a1b266a9c925203d37": {
          "model_module": "@jupyter-widgets/controls",
          "model_name": "ProgressStyleModel",
          "model_module_version": "1.5.0",
          "state": {
            "_view_name": "StyleView",
            "_model_name": "ProgressStyleModel",
            "description_width": "",
            "_view_module": "@jupyter-widgets/base",
            "_model_module_version": "1.5.0",
            "_view_count": null,
            "_view_module_version": "1.2.0",
            "bar_color": null,
            "_model_module": "@jupyter-widgets/controls"
          }
        },
        "7954ff498b464db591c03649cbdf03cd": {
          "model_module": "@jupyter-widgets/base",
          "model_name": "LayoutModel",
          "model_module_version": "1.2.0",
          "state": {
            "_view_name": "LayoutView",
            "grid_template_rows": null,
            "right": null,
            "justify_content": null,
            "_view_module": "@jupyter-widgets/base",
            "overflow": null,
            "_model_module_version": "1.2.0",
            "_view_count": null,
            "flex_flow": null,
            "width": null,
            "min_width": null,
            "border": null,
            "align_items": null,
            "bottom": null,
            "_model_module": "@jupyter-widgets/base",
            "top": null,
            "grid_column": null,
            "overflow_y": null,
            "overflow_x": null,
            "grid_auto_flow": null,
            "grid_area": null,
            "grid_template_columns": null,
            "flex": null,
            "_model_name": "LayoutModel",
            "justify_items": null,
            "grid_row": null,
            "max_height": null,
            "align_content": null,
            "visibility": null,
            "align_self": null,
            "height": null,
            "min_height": null,
            "padding": null,
            "grid_auto_rows": null,
            "grid_gap": null,
            "max_width": null,
            "order": null,
            "_view_module_version": "1.2.0",
            "grid_template_areas": null,
            "object_position": null,
            "object_fit": null,
            "grid_auto_columns": null,
            "margin": null,
            "display": null,
            "left": null
          }
        },
        "7f59004b94aa4a13a909d4587defd832": {
          "model_module": "@jupyter-widgets/controls",
          "model_name": "DescriptionStyleModel",
          "model_module_version": "1.5.0",
          "state": {
            "_view_name": "StyleView",
            "_model_name": "DescriptionStyleModel",
            "description_width": "",
            "_view_module": "@jupyter-widgets/base",
            "_model_module_version": "1.5.0",
            "_view_count": null,
            "_view_module_version": "1.2.0",
            "_model_module": "@jupyter-widgets/controls"
          }
        },
        "3576c4eb924f4f7b9fba2fac8149784e": {
          "model_module": "@jupyter-widgets/base",
          "model_name": "LayoutModel",
          "model_module_version": "1.2.0",
          "state": {
            "_view_name": "LayoutView",
            "grid_template_rows": null,
            "right": null,
            "justify_content": null,
            "_view_module": "@jupyter-widgets/base",
            "overflow": null,
            "_model_module_version": "1.2.0",
            "_view_count": null,
            "flex_flow": null,
            "width": null,
            "min_width": null,
            "border": null,
            "align_items": null,
            "bottom": null,
            "_model_module": "@jupyter-widgets/base",
            "top": null,
            "grid_column": null,
            "overflow_y": null,
            "overflow_x": null,
            "grid_auto_flow": null,
            "grid_area": null,
            "grid_template_columns": null,
            "flex": null,
            "_model_name": "LayoutModel",
            "justify_items": null,
            "grid_row": null,
            "max_height": null,
            "align_content": null,
            "visibility": null,
            "align_self": null,
            "height": null,
            "min_height": null,
            "padding": null,
            "grid_auto_rows": null,
            "grid_gap": null,
            "max_width": null,
            "order": null,
            "_view_module_version": "1.2.0",
            "grid_template_areas": null,
            "object_position": null,
            "object_fit": null,
            "grid_auto_columns": null,
            "margin": null,
            "display": null,
            "left": null
          }
        },
        "464fd940e335466db49067baee1240cc": {
          "model_module": "@jupyter-widgets/controls",
          "model_name": "HBoxModel",
          "model_module_version": "1.5.0",
          "state": {
            "_view_name": "HBoxView",
            "_dom_classes": [],
            "_model_name": "HBoxModel",
            "_view_module": "@jupyter-widgets/controls",
            "_model_module_version": "1.5.0",
            "_view_count": null,
            "_view_module_version": "1.5.0",
            "box_style": "",
            "layout": "IPY_MODEL_fcd3f9f6baf04bc0931402638bf8c1f6",
            "_model_module": "@jupyter-widgets/controls",
            "children": [
              "IPY_MODEL_cd1b451602e84822a1b371819b48b40d",
              "IPY_MODEL_74366d489f0849b0965c2f461da6a590",
              "IPY_MODEL_7329d34ed1bb40659aa5a7b203df3648"
            ]
          }
        },
        "fcd3f9f6baf04bc0931402638bf8c1f6": {
          "model_module": "@jupyter-widgets/base",
          "model_name": "LayoutModel",
          "model_module_version": "1.2.0",
          "state": {
            "_view_name": "LayoutView",
            "grid_template_rows": null,
            "right": null,
            "justify_content": null,
            "_view_module": "@jupyter-widgets/base",
            "overflow": null,
            "_model_module_version": "1.2.0",
            "_view_count": null,
            "flex_flow": null,
            "width": null,
            "min_width": null,
            "border": null,
            "align_items": null,
            "bottom": null,
            "_model_module": "@jupyter-widgets/base",
            "top": null,
            "grid_column": null,
            "overflow_y": null,
            "overflow_x": null,
            "grid_auto_flow": null,
            "grid_area": null,
            "grid_template_columns": null,
            "flex": null,
            "_model_name": "LayoutModel",
            "justify_items": null,
            "grid_row": null,
            "max_height": null,
            "align_content": null,
            "visibility": null,
            "align_self": null,
            "height": null,
            "min_height": null,
            "padding": null,
            "grid_auto_rows": null,
            "grid_gap": null,
            "max_width": null,
            "order": null,
            "_view_module_version": "1.2.0",
            "grid_template_areas": null,
            "object_position": null,
            "object_fit": null,
            "grid_auto_columns": null,
            "margin": null,
            "display": null,
            "left": null
          }
        },
        "cd1b451602e84822a1b371819b48b40d": {
          "model_module": "@jupyter-widgets/controls",
          "model_name": "HTMLModel",
          "model_module_version": "1.5.0",
          "state": {
            "_view_name": "HTMLView",
            "style": "IPY_MODEL_4a927c71f2af43a29c44f8325f4f7a23",
            "_dom_classes": [],
            "description": "",
            "_model_name": "HTMLModel",
            "placeholder": "​",
            "_view_module": "@jupyter-widgets/controls",
            "_model_module_version": "1.5.0",
            "value": "Downloading: 100%",
            "_view_count": null,
            "_view_module_version": "1.5.0",
            "description_tooltip": null,
            "_model_module": "@jupyter-widgets/controls",
            "layout": "IPY_MODEL_c24f678519b04b0a88755e84f59155e6"
          }
        },
        "74366d489f0849b0965c2f461da6a590": {
          "model_module": "@jupyter-widgets/controls",
          "model_name": "FloatProgressModel",
          "model_module_version": "1.5.0",
          "state": {
            "_view_name": "ProgressView",
            "style": "IPY_MODEL_59301bd530f148c593612ea4c9cf825c",
            "_dom_classes": [],
            "description": "",
            "_model_name": "FloatProgressModel",
            "bar_style": "success",
            "max": 267967963,
            "_view_module": "@jupyter-widgets/controls",
            "_model_module_version": "1.5.0",
            "value": 267967963,
            "_view_count": null,
            "_view_module_version": "1.5.0",
            "orientation": "horizontal",
            "min": 0,
            "description_tooltip": null,
            "_model_module": "@jupyter-widgets/controls",
            "layout": "IPY_MODEL_4e926183157042398e9281d2b6b7347a"
          }
        },
        "7329d34ed1bb40659aa5a7b203df3648": {
          "model_module": "@jupyter-widgets/controls",
          "model_name": "HTMLModel",
          "model_module_version": "1.5.0",
          "state": {
            "_view_name": "HTMLView",
            "style": "IPY_MODEL_c56d68da59ed4a0ca2f0d3f7bf9f135b",
            "_dom_classes": [],
            "description": "",
            "_model_name": "HTMLModel",
            "placeholder": "​",
            "_view_module": "@jupyter-widgets/controls",
            "_model_module_version": "1.5.0",
            "value": " 256M/256M [00:06&lt;00:00, 41.5MB/s]",
            "_view_count": null,
            "_view_module_version": "1.5.0",
            "description_tooltip": null,
            "_model_module": "@jupyter-widgets/controls",
            "layout": "IPY_MODEL_e826f30a062a401d89c5f40b59a0f243"
          }
        },
        "4a927c71f2af43a29c44f8325f4f7a23": {
          "model_module": "@jupyter-widgets/controls",
          "model_name": "DescriptionStyleModel",
          "model_module_version": "1.5.0",
          "state": {
            "_view_name": "StyleView",
            "_model_name": "DescriptionStyleModel",
            "description_width": "",
            "_view_module": "@jupyter-widgets/base",
            "_model_module_version": "1.5.0",
            "_view_count": null,
            "_view_module_version": "1.2.0",
            "_model_module": "@jupyter-widgets/controls"
          }
        },
        "c24f678519b04b0a88755e84f59155e6": {
          "model_module": "@jupyter-widgets/base",
          "model_name": "LayoutModel",
          "model_module_version": "1.2.0",
          "state": {
            "_view_name": "LayoutView",
            "grid_template_rows": null,
            "right": null,
            "justify_content": null,
            "_view_module": "@jupyter-widgets/base",
            "overflow": null,
            "_model_module_version": "1.2.0",
            "_view_count": null,
            "flex_flow": null,
            "width": null,
            "min_width": null,
            "border": null,
            "align_items": null,
            "bottom": null,
            "_model_module": "@jupyter-widgets/base",
            "top": null,
            "grid_column": null,
            "overflow_y": null,
            "overflow_x": null,
            "grid_auto_flow": null,
            "grid_area": null,
            "grid_template_columns": null,
            "flex": null,
            "_model_name": "LayoutModel",
            "justify_items": null,
            "grid_row": null,
            "max_height": null,
            "align_content": null,
            "visibility": null,
            "align_self": null,
            "height": null,
            "min_height": null,
            "padding": null,
            "grid_auto_rows": null,
            "grid_gap": null,
            "max_width": null,
            "order": null,
            "_view_module_version": "1.2.0",
            "grid_template_areas": null,
            "object_position": null,
            "object_fit": null,
            "grid_auto_columns": null,
            "margin": null,
            "display": null,
            "left": null
          }
        },
        "59301bd530f148c593612ea4c9cf825c": {
          "model_module": "@jupyter-widgets/controls",
          "model_name": "ProgressStyleModel",
          "model_module_version": "1.5.0",
          "state": {
            "_view_name": "StyleView",
            "_model_name": "ProgressStyleModel",
            "description_width": "",
            "_view_module": "@jupyter-widgets/base",
            "_model_module_version": "1.5.0",
            "_view_count": null,
            "_view_module_version": "1.2.0",
            "bar_color": null,
            "_model_module": "@jupyter-widgets/controls"
          }
        },
        "4e926183157042398e9281d2b6b7347a": {
          "model_module": "@jupyter-widgets/base",
          "model_name": "LayoutModel",
          "model_module_version": "1.2.0",
          "state": {
            "_view_name": "LayoutView",
            "grid_template_rows": null,
            "right": null,
            "justify_content": null,
            "_view_module": "@jupyter-widgets/base",
            "overflow": null,
            "_model_module_version": "1.2.0",
            "_view_count": null,
            "flex_flow": null,
            "width": null,
            "min_width": null,
            "border": null,
            "align_items": null,
            "bottom": null,
            "_model_module": "@jupyter-widgets/base",
            "top": null,
            "grid_column": null,
            "overflow_y": null,
            "overflow_x": null,
            "grid_auto_flow": null,
            "grid_area": null,
            "grid_template_columns": null,
            "flex": null,
            "_model_name": "LayoutModel",
            "justify_items": null,
            "grid_row": null,
            "max_height": null,
            "align_content": null,
            "visibility": null,
            "align_self": null,
            "height": null,
            "min_height": null,
            "padding": null,
            "grid_auto_rows": null,
            "grid_gap": null,
            "max_width": null,
            "order": null,
            "_view_module_version": "1.2.0",
            "grid_template_areas": null,
            "object_position": null,
            "object_fit": null,
            "grid_auto_columns": null,
            "margin": null,
            "display": null,
            "left": null
          }
        },
        "c56d68da59ed4a0ca2f0d3f7bf9f135b": {
          "model_module": "@jupyter-widgets/controls",
          "model_name": "DescriptionStyleModel",
          "model_module_version": "1.5.0",
          "state": {
            "_view_name": "StyleView",
            "_model_name": "DescriptionStyleModel",
            "description_width": "",
            "_view_module": "@jupyter-widgets/base",
            "_model_module_version": "1.5.0",
            "_view_count": null,
            "_view_module_version": "1.2.0",
            "_model_module": "@jupyter-widgets/controls"
          }
        },
        "e826f30a062a401d89c5f40b59a0f243": {
          "model_module": "@jupyter-widgets/base",
          "model_name": "LayoutModel",
          "model_module_version": "1.2.0",
          "state": {
            "_view_name": "LayoutView",
            "grid_template_rows": null,
            "right": null,
            "justify_content": null,
            "_view_module": "@jupyter-widgets/base",
            "overflow": null,
            "_model_module_version": "1.2.0",
            "_view_count": null,
            "flex_flow": null,
            "width": null,
            "min_width": null,
            "border": null,
            "align_items": null,
            "bottom": null,
            "_model_module": "@jupyter-widgets/base",
            "top": null,
            "grid_column": null,
            "overflow_y": null,
            "overflow_x": null,
            "grid_auto_flow": null,
            "grid_area": null,
            "grid_template_columns": null,
            "flex": null,
            "_model_name": "LayoutModel",
            "justify_items": null,
            "grid_row": null,
            "max_height": null,
            "align_content": null,
            "visibility": null,
            "align_self": null,
            "height": null,
            "min_height": null,
            "padding": null,
            "grid_auto_rows": null,
            "grid_gap": null,
            "max_width": null,
            "order": null,
            "_view_module_version": "1.2.0",
            "grid_template_areas": null,
            "object_position": null,
            "object_fit": null,
            "grid_auto_columns": null,
            "margin": null,
            "display": null,
            "left": null
          }
        },
        "6c4d105f38c34e91bb5dcbd226b08092": {
          "model_module": "@jupyter-widgets/controls",
          "model_name": "HBoxModel",
          "model_module_version": "1.5.0",
          "state": {
            "_view_name": "HBoxView",
            "_dom_classes": [],
            "_model_name": "HBoxModel",
            "_view_module": "@jupyter-widgets/controls",
            "_model_module_version": "1.5.0",
            "_view_count": null,
            "_view_module_version": "1.5.0",
            "box_style": "",
            "layout": "IPY_MODEL_ac153fce14534eeeb2d148b19ec93255",
            "_model_module": "@jupyter-widgets/controls",
            "children": [
              "IPY_MODEL_01d532c14ab04aaa85f4eac04409d680",
              "IPY_MODEL_f71add3e06dd475fb906609f3a6d5331",
              "IPY_MODEL_ea79cc7fb50143ae9c8483062ebc7e3c"
            ]
          }
        },
        "ac153fce14534eeeb2d148b19ec93255": {
          "model_module": "@jupyter-widgets/base",
          "model_name": "LayoutModel",
          "model_module_version": "1.2.0",
          "state": {
            "_view_name": "LayoutView",
            "grid_template_rows": null,
            "right": null,
            "justify_content": null,
            "_view_module": "@jupyter-widgets/base",
            "overflow": null,
            "_model_module_version": "1.2.0",
            "_view_count": null,
            "flex_flow": null,
            "width": null,
            "min_width": null,
            "border": null,
            "align_items": null,
            "bottom": null,
            "_model_module": "@jupyter-widgets/base",
            "top": null,
            "grid_column": null,
            "overflow_y": null,
            "overflow_x": null,
            "grid_auto_flow": null,
            "grid_area": null,
            "grid_template_columns": null,
            "flex": null,
            "_model_name": "LayoutModel",
            "justify_items": null,
            "grid_row": null,
            "max_height": null,
            "align_content": null,
            "visibility": null,
            "align_self": null,
            "height": null,
            "min_height": null,
            "padding": null,
            "grid_auto_rows": null,
            "grid_gap": null,
            "max_width": null,
            "order": null,
            "_view_module_version": "1.2.0",
            "grid_template_areas": null,
            "object_position": null,
            "object_fit": null,
            "grid_auto_columns": null,
            "margin": null,
            "display": null,
            "left": null
          }
        },
        "01d532c14ab04aaa85f4eac04409d680": {
          "model_module": "@jupyter-widgets/controls",
          "model_name": "HTMLModel",
          "model_module_version": "1.5.0",
          "state": {
            "_view_name": "HTMLView",
            "style": "IPY_MODEL_18d3b68b56b6405c9e7d2d689b7d3796",
            "_dom_classes": [],
            "description": "",
            "_model_name": "HTMLModel",
            "placeholder": "​",
            "_view_module": "@jupyter-widgets/controls",
            "_model_module_version": "1.5.0",
            "value": "Downloading: 100%",
            "_view_count": null,
            "_view_module_version": "1.5.0",
            "description_tooltip": null,
            "_model_module": "@jupyter-widgets/controls",
            "layout": "IPY_MODEL_34ee0f62c34244c59ddada083d540157"
          }
        },
        "f71add3e06dd475fb906609f3a6d5331": {
          "model_module": "@jupyter-widgets/controls",
          "model_name": "FloatProgressModel",
          "model_module_version": "1.5.0",
          "state": {
            "_view_name": "ProgressView",
            "style": "IPY_MODEL_8b1fb16da8014207b028af71dc1f47d0",
            "_dom_classes": [],
            "description": "",
            "_model_name": "FloatProgressModel",
            "bar_style": "success",
            "max": 363423424,
            "_view_module": "@jupyter-widgets/controls",
            "_model_module_version": "1.5.0",
            "value": 363423424,
            "_view_count": null,
            "_view_module_version": "1.5.0",
            "orientation": "horizontal",
            "min": 0,
            "description_tooltip": null,
            "_model_module": "@jupyter-widgets/controls",
            "layout": "IPY_MODEL_e1b5e2b049764a37a739832191f6e263"
          }
        },
        "ea79cc7fb50143ae9c8483062ebc7e3c": {
          "model_module": "@jupyter-widgets/controls",
          "model_name": "HTMLModel",
          "model_module_version": "1.5.0",
          "state": {
            "_view_name": "HTMLView",
            "style": "IPY_MODEL_46f7b1c8aae94898b5de27112f76d8cc",
            "_dom_classes": [],
            "description": "",
            "_model_name": "HTMLModel",
            "placeholder": "​",
            "_view_module": "@jupyter-widgets/controls",
            "_model_module_version": "1.5.0",
            "value": " 347M/347M [00:09&lt;00:00, 39.1MB/s]",
            "_view_count": null,
            "_view_module_version": "1.5.0",
            "description_tooltip": null,
            "_model_module": "@jupyter-widgets/controls",
            "layout": "IPY_MODEL_8aa320a5e51b449c89a69a5082af579d"
          }
        },
        "18d3b68b56b6405c9e7d2d689b7d3796": {
          "model_module": "@jupyter-widgets/controls",
          "model_name": "DescriptionStyleModel",
          "model_module_version": "1.5.0",
          "state": {
            "_view_name": "StyleView",
            "_model_name": "DescriptionStyleModel",
            "description_width": "",
            "_view_module": "@jupyter-widgets/base",
            "_model_module_version": "1.5.0",
            "_view_count": null,
            "_view_module_version": "1.2.0",
            "_model_module": "@jupyter-widgets/controls"
          }
        },
        "34ee0f62c34244c59ddada083d540157": {
          "model_module": "@jupyter-widgets/base",
          "model_name": "LayoutModel",
          "model_module_version": "1.2.0",
          "state": {
            "_view_name": "LayoutView",
            "grid_template_rows": null,
            "right": null,
            "justify_content": null,
            "_view_module": "@jupyter-widgets/base",
            "overflow": null,
            "_model_module_version": "1.2.0",
            "_view_count": null,
            "flex_flow": null,
            "width": null,
            "min_width": null,
            "border": null,
            "align_items": null,
            "bottom": null,
            "_model_module": "@jupyter-widgets/base",
            "top": null,
            "grid_column": null,
            "overflow_y": null,
            "overflow_x": null,
            "grid_auto_flow": null,
            "grid_area": null,
            "grid_template_columns": null,
            "flex": null,
            "_model_name": "LayoutModel",
            "justify_items": null,
            "grid_row": null,
            "max_height": null,
            "align_content": null,
            "visibility": null,
            "align_self": null,
            "height": null,
            "min_height": null,
            "padding": null,
            "grid_auto_rows": null,
            "grid_gap": null,
            "max_width": null,
            "order": null,
            "_view_module_version": "1.2.0",
            "grid_template_areas": null,
            "object_position": null,
            "object_fit": null,
            "grid_auto_columns": null,
            "margin": null,
            "display": null,
            "left": null
          }
        },
        "8b1fb16da8014207b028af71dc1f47d0": {
          "model_module": "@jupyter-widgets/controls",
          "model_name": "ProgressStyleModel",
          "model_module_version": "1.5.0",
          "state": {
            "_view_name": "StyleView",
            "_model_name": "ProgressStyleModel",
            "description_width": "",
            "_view_module": "@jupyter-widgets/base",
            "_model_module_version": "1.5.0",
            "_view_count": null,
            "_view_module_version": "1.2.0",
            "bar_color": null,
            "_model_module": "@jupyter-widgets/controls"
          }
        },
        "e1b5e2b049764a37a739832191f6e263": {
          "model_module": "@jupyter-widgets/base",
          "model_name": "LayoutModel",
          "model_module_version": "1.2.0",
          "state": {
            "_view_name": "LayoutView",
            "grid_template_rows": null,
            "right": null,
            "justify_content": null,
            "_view_module": "@jupyter-widgets/base",
            "overflow": null,
            "_model_module_version": "1.2.0",
            "_view_count": null,
            "flex_flow": null,
            "width": null,
            "min_width": null,
            "border": null,
            "align_items": null,
            "bottom": null,
            "_model_module": "@jupyter-widgets/base",
            "top": null,
            "grid_column": null,
            "overflow_y": null,
            "overflow_x": null,
            "grid_auto_flow": null,
            "grid_area": null,
            "grid_template_columns": null,
            "flex": null,
            "_model_name": "LayoutModel",
            "justify_items": null,
            "grid_row": null,
            "max_height": null,
            "align_content": null,
            "visibility": null,
            "align_self": null,
            "height": null,
            "min_height": null,
            "padding": null,
            "grid_auto_rows": null,
            "grid_gap": null,
            "max_width": null,
            "order": null,
            "_view_module_version": "1.2.0",
            "grid_template_areas": null,
            "object_position": null,
            "object_fit": null,
            "grid_auto_columns": null,
            "margin": null,
            "display": null,
            "left": null
          }
        },
        "46f7b1c8aae94898b5de27112f76d8cc": {
          "model_module": "@jupyter-widgets/controls",
          "model_name": "DescriptionStyleModel",
          "model_module_version": "1.5.0",
          "state": {
            "_view_name": "StyleView",
            "_model_name": "DescriptionStyleModel",
            "description_width": "",
            "_view_module": "@jupyter-widgets/base",
            "_model_module_version": "1.5.0",
            "_view_count": null,
            "_view_module_version": "1.2.0",
            "_model_module": "@jupyter-widgets/controls"
          }
        },
        "8aa320a5e51b449c89a69a5082af579d": {
          "model_module": "@jupyter-widgets/base",
          "model_name": "LayoutModel",
          "model_module_version": "1.2.0",
          "state": {
            "_view_name": "LayoutView",
            "grid_template_rows": null,
            "right": null,
            "justify_content": null,
            "_view_module": "@jupyter-widgets/base",
            "overflow": null,
            "_model_module_version": "1.2.0",
            "_view_count": null,
            "flex_flow": null,
            "width": null,
            "min_width": null,
            "border": null,
            "align_items": null,
            "bottom": null,
            "_model_module": "@jupyter-widgets/base",
            "top": null,
            "grid_column": null,
            "overflow_y": null,
            "overflow_x": null,
            "grid_auto_flow": null,
            "grid_area": null,
            "grid_template_columns": null,
            "flex": null,
            "_model_name": "LayoutModel",
            "justify_items": null,
            "grid_row": null,
            "max_height": null,
            "align_content": null,
            "visibility": null,
            "align_self": null,
            "height": null,
            "min_height": null,
            "padding": null,
            "grid_auto_rows": null,
            "grid_gap": null,
            "max_width": null,
            "order": null,
            "_view_module_version": "1.2.0",
            "grid_template_areas": null,
            "object_position": null,
            "object_fit": null,
            "grid_auto_columns": null,
            "margin": null,
            "display": null,
            "left": null
          }
        }
      }
    }
  },
  "cells": [
    {
      "cell_type": "markdown",
      "metadata": {
        "id": "view-in-github",
        "colab_type": "text"
      },
      "source": [
        "<a href=\"https://colab.research.google.com/github/DSPOWER93/quora-insincere/blob/main/Distilbert_Classifier_Insincere_Questions.ipynb\" target=\"_parent\"><img src=\"https://colab.research.google.com/assets/colab-badge.svg\" alt=\"Open In Colab\"/></a>"
      ]
    },
    {
      "cell_type": "markdown",
      "metadata": {
        "id": "bRR_lLWhAm6O"
      },
      "source": [
        "### Synopsis:\n",
        "\n",
        "The Following file is a working on NLP classifier to identify insincere questions. Data is taken from kaggle Competition [Quora Insicere Question Classification](https://www.kaggle.com/c/quora-insincere-questions-classification).\n",
        "\n",
        "- **Model**: Hugingface Distilbert (Hybrid)\n",
        "- **Params**: 66M\n",
        "- **Framework**: TensorFlow\n"
      ]
    },
    {
      "cell_type": "markdown",
      "metadata": {
        "id": "WvsZBezP9gYl"
      },
      "source": [
        "### Mounting Drive to Import Data."
      ]
    },
    {
      "cell_type": "code",
      "metadata": {
        "colab": {
          "base_uri": "https://localhost:8080/"
        },
        "id": "OySoea4drZNP",
        "outputId": "839a1f61-9a37-4b9f-ef6d-5a328e94acc5"
      },
      "source": [
        "from google.colab import drive\n",
        "drive.mount('/content/drive/')"
      ],
      "execution_count": null,
      "outputs": [
        {
          "output_type": "stream",
          "name": "stdout",
          "text": [
            "Drive already mounted at /content/drive/; to attempt to forcibly remount, call drive.mount(\"/content/drive/\", force_remount=True).\n"
          ]
        }
      ]
    },
    {
      "cell_type": "markdown",
      "metadata": {
        "id": "8HZdLBIqAgUa"
      },
      "source": [
        "#### Installing necessary Libraries."
      ]
    },
    {
      "cell_type": "code",
      "metadata": {
        "id": "HsKLdYSrtVrr"
      },
      "source": [
        "%%capture\n",
        "!pip install transformers\n",
        "!pip install numpy requests nlpaug\n",
        "!pip install pyspellchecker\n",
        "!pip install pandas --upgrade"
      ],
      "execution_count": null,
      "outputs": []
    },
    {
      "cell_type": "markdown",
      "source": [
        "### Importing necessary Libraries "
      ],
      "metadata": {
        "id": "g3ioT8n0dgbU"
      }
    },
    {
      "cell_type": "code",
      "metadata": {
        "id": "kc3bd__ztfDu"
      },
      "source": [
        "# Transformer Libraries\n",
        "from transformers import DistilBertTokenizer \n",
        "from transformers import TFDistilBertForSequenceClassification\n",
        "from transformers import DistilBertModel\n",
        "from transformers import TFDistilBertModel, DistilBertConfig\n",
        "import tensorflow as tf\n",
        "\n",
        "\n",
        "#  For NLP Text augmentation\n",
        "import nlpaug.augmenter.word as nlpaw\n",
        "from tqdm import tqdm\n",
        "\n",
        "\n",
        "import pandas as pd\n",
        "import numpy as np\n",
        "np.set_printoptions(suppress=True) # to negate scientific notations\n",
        "import json\n",
        "import gc"
      ],
      "execution_count": null,
      "outputs": []
    },
    {
      "cell_type": "markdown",
      "source": [
        "### NLP Pre-processing Libraries"
      ],
      "metadata": {
        "id": "KOTuvZzBgqzB"
      }
    },
    {
      "cell_type": "code",
      "metadata": {
        "colab": {
          "base_uri": "https://localhost:8080/"
        },
        "id": "a3TPFFV2W-dU",
        "outputId": "813bf7b8-dec1-4568-c550-33099cf004f3"
      },
      "source": [
        "# Importing Libraries for NLP \n",
        "import re\n",
        "import string\n",
        "import nltk\n",
        "import spacy\n",
        "spacy.prefer_gpu()\n",
        "# to make spacy work in pipeline.\n",
        "nlp_vocab = spacy.load('en_core_web_sm', disable=['tagger', 'parser', 'ner'])\n",
        "nlp_vocab.add_pipe(nlp_vocab.create_pipe('sentencizer'))\n",
        "\n",
        "# Importing spellchecker & NLP\n",
        "from spellchecker import SpellChecker\n",
        "from nltk.corpus import stopwords\n",
        "nltk.download(\"stopwords\")\n",
        "\n",
        "# setting variable for stop words\n",
        "stop_words = stopwords.words(\"english\")"
      ],
      "execution_count": null,
      "outputs": [
        {
          "output_type": "stream",
          "name": "stdout",
          "text": [
            "[nltk_data] Downloading package stopwords to /root/nltk_data...\n",
            "[nltk_data]   Package stopwords is already up-to-date!\n"
          ]
        }
      ]
    },
    {
      "cell_type": "markdown",
      "source": [
        "### Corpus Cleaning\n",
        "\n",
        "Defining function to clean corpus. "
      ],
      "metadata": {
        "id": "0v8kC9vog58R"
      }
    },
    {
      "cell_type": "code",
      "metadata": {
        "id": "LVESFqOOZzm4"
      },
      "source": [
        "# lemmatization of words from spacy. \n",
        "def spacy_lemmatize(x):\n",
        "  x = nlp_vocab(x)\n",
        "  x = [s.lemma_ for s in x]\n",
        "  x = \" \".join(x)\n",
        "  return x\n",
        "\n",
        "\n",
        "# Spelling collection \n",
        "spell = SpellChecker()\n",
        "def correct_spellings(x, spell=spell):\n",
        "    \"\"\"correct the misspelled words of a given corpus\"\"\"\n",
        "    x = x.split()\n",
        "    misspelled = spell.unknown(x)\n",
        "    result = map(lambda word : spell.correction(word) if word in  misspelled else word, x)\n",
        "    return \" \".join(result)\n",
        "\n",
        "# corpus cleaning. we will keep Lemmatization as False as it's time consuming activity we will later use it in parallel computing.\n",
        "def corpus_cleaning(x, correct_spelling=True, remove_emojis=True, remove_stop_words=False, lemmatize=False):\n",
        "    \"\"\"Apply function to a clean a corpus\"\"\"\n",
        "    x = x.lower().strip()\n",
        "    # romove urls\n",
        "    url = re.compile(r'https?://\\S+|www\\.\\S+')\n",
        "    x = url.sub(r'',x)\n",
        "    # remove html tags\n",
        "    html = re.compile(r'<.*?>')\n",
        "    x = html.sub(r'',x)\n",
        "    # remove punctuation\n",
        "    operator = str.maketrans('','',string.punctuation) #????\n",
        "    x = x.translate(operator)\n",
        "    if correct_spelling:\n",
        "        x = correct_spellings(x)\n",
        "    if lemmatize:\n",
        "        x = spacy_lemmatize(x)\n",
        "    if remove_emojis:\n",
        "        x = x.encode('ascii', 'ignore').decode('utf8').strip()\n",
        "    if remove_stop_words:\n",
        "        x = ' '.join([word for word in x.split(' ') if word not in stop_words])\n",
        "    return x"
      ],
      "execution_count": null,
      "outputs": []
    },
    {
      "cell_type": "markdown",
      "source": [
        "### Lemmatization using parallel processing\n",
        "\n",
        "Spacy in general creates metadata of each corpus element which is quite of time consuming task in general. This creates room for parallel processing as running for loop will be doing sequential job not utilizing potential power of computing instance. The codes used to execute were used from well witten article on Spacy for parallel processing. [Link](https://prrao87.github.io/blog/spacy/nlp/performance/2020/05/02/spacy-multiprocess.html)"
      ],
      "metadata": {
        "id": "HQ77Ypj4i4WR"
      }
    },
    {
      "cell_type": "code",
      "metadata": {
        "id": "F0_NheaFZ8A_"
      },
      "source": [
        "#%%time\n",
        "from joblib import Parallel, delayed\n",
        "\n",
        "def lemmatize_pipe(doc):\n",
        "    lemma_list = [s.lemma_ for s in doc] \n",
        "    return lemma_list\n",
        "    \n",
        "def preprocess_pipe(texts):\n",
        "    preproc_pipe = []\n",
        "    for doc in nlp_vocab.pipe(texts, batch_size=20):\n",
        "        preproc_pipe.append(lemmatize_pipe(doc))\n",
        "    return preproc_pipe\n",
        "\n",
        "def chunker(iterable, total_length, chunksize):\n",
        "    return (iterable[pos: pos + chunksize] for pos in range(0, total_length, chunksize))\n",
        "\n",
        "def flatten(list_of_lists):\n",
        "    \"Flatten a list of lists to a combined list\"\n",
        "    return [item for sublist in list_of_lists for item in sublist]\n",
        "\n",
        "def process_chunk(texts):\n",
        "    preproc_pipe = []\n",
        "    for doc in nlp_vocab.pipe(texts, batch_size=20):\n",
        "        preproc_pipe.append(lemmatize_pipe(doc))\n",
        "    return preproc_pipe\n",
        "\n",
        "def preprocess_parallel(texts, chunksize=1000):\n",
        "    executor = Parallel(n_jobs=7, backend='multiprocessing', prefer=\"processes\")\n",
        "    do = delayed(process_chunk)\n",
        "    tasks = (do(chunk) for chunk in chunker(texts, len(texts), chunksize=chunksize))\n",
        "    result = executor(tasks)\n",
        "    return flatten(result)"
      ],
      "execution_count": null,
      "outputs": []
    },
    {
      "cell_type": "markdown",
      "metadata": {
        "id": "jfm5upvaBWjN"
      },
      "source": [
        "### Importing Clean Dataset\n",
        "\n",
        "As we had mentioned about text preprocess methodology followed to clean corpus in Bi-LSTM training notebook. Bi-LSTM link for reference [Link](https://github.com/DSPOWER93/quora-insincere/blob/main/Bi_LSTM_insincere_question_Classifier.ipynb)"
      ]
    },
    {
      "cell_type": "code",
      "metadata": {
        "id": "VNDx7SKMtiy_"
      },
      "source": [
        "clean_df = pd.read_csv('/content/drive/MyDrive/Quora_project/final_data.csv', index_col= 'Unnamed: 0').reset_index()\n",
        "\n",
        "# Drop Null entries\n",
        "clean_df = clean_df[clean_df['Text'].notnull()]"
      ],
      "execution_count": null,
      "outputs": []
    },
    {
      "cell_type": "markdown",
      "metadata": {
        "id": "4HowWcD4zIc7"
      },
      "source": [
        "### Filtering out Sample Data\n",
        "\n",
        "The base Dataset is having category ratio  of 93:6, which makes distribution inbalance. Have resized the proportion 90:10 to reduce data imbalance."
      ]
    },
    {
      "cell_type": "code",
      "metadata": {
        "colab": {
          "base_uri": "https://localhost:8080/"
        },
        "id": "ugMWTJspzCix",
        "outputId": "17296330-6d17-44bf-fa56-ee5bfcd6847e"
      },
      "source": [
        "import random\n",
        "random.seed(0)\n",
        "\n",
        "# Seperating insincere questions.\n",
        "#  Insincere Question \n",
        "insincere=clean_df[clean_df['target'] == 1]\n",
        "# Normal Question \n",
        "sincere=clean_df[clean_df['target'] == 0]\n",
        "\n",
        "\n",
        "#  Consuming 50% of insincere questions in train & test of Data\n",
        "top_50 = int(round(len(insincere)*0.5,0))\n",
        "\n",
        "# Generating seperate Dataframe with 30K \n",
        "insincere_train = insincere[:top_50]\n",
        "insincere_prod =  insincere[top_50:]\n",
        "\n",
        "sincere_train = sincere[:270000]\n",
        "sincere_prod = sincere[270000:]\n",
        "\n",
        "insincere_train = insincere_train.append(sincere_train)\n",
        "insincere_prod = insincere_prod.append(sincere_prod)\n",
        "\n",
        "\n",
        "train_shuffle = (list(random.sample(range(len(insincere_train)), len(insincere_train))))\n",
        "test_shuffle = (list(random.sample(range(len(insincere_prod)), len(insincere_prod))))\n",
        "\n",
        "\n",
        "insincere_train = insincere_train.iloc[train_shuffle,:]\n",
        "insincere_prod = insincere_prod.iloc[test_shuffle,:]\n",
        "\n",
        "del(sincere_train,sincere_prod)\n",
        "\n",
        "\n",
        "insincere_train.drop(['index','Rows'], axis=1, inplace= True)\n",
        "insincere_prod.drop(['index','Rows'], axis=1, inplace= True)\n",
        "\n",
        "print(insincere_train.shape, insincere_prod.shape)"
      ],
      "execution_count": null,
      "outputs": [
        {
          "output_type": "stream",
          "name": "stdout",
          "text": [
            "(300894, 2) (699104, 2)\n"
          ]
        }
      ]
    },
    {
      "cell_type": "markdown",
      "source": [
        "### Train & Test Split (60:40)"
      ],
      "metadata": {
        "id": "aqhmsSe1k6YE"
      }
    },
    {
      "cell_type": "code",
      "metadata": {
        "colab": {
          "base_uri": "https://localhost:8080/"
        },
        "id": "lmvURy7vuhv1",
        "outputId": "8312e4f7-8df6-41e5-9ef9-0fc461bb8ca0"
      },
      "source": [
        "from sklearn.model_selection import train_test_split\n",
        "\n",
        "# Split Train and Validation data\n",
        "X_train, X_test = train_test_split( insincere_train, test_size=0.4, random_state=0)\n",
        "\n",
        "y_train = X_train['target']\n",
        "y_valid = X_test['target']\n",
        "\n",
        "print(X_train.shape, X_test.shape)"
      ],
      "execution_count": null,
      "outputs": [
        {
          "output_type": "stream",
          "name": "stdout",
          "text": [
            "(180536, 2) (120358, 2)\n"
          ]
        }
      ]
    },
    {
      "cell_type": "markdown",
      "metadata": {
        "id": "fGyt3IZlsJNY"
      },
      "source": [
        "#### Step could be used to perform augmentation on Data, \n",
        "Due to augmentation activity being computational expensive activity, this part of code was not executed. This activity can be very useful when size of data is small  & imbalanced.\n",
        "\n",
        "following article was good reference \n",
        "[Link](https://www.analyticsvidhya.com/blog/2021/08/nlpaug-a-python-library-to-augment-your-text-data/)"
      ]
    },
    {
      "cell_type": "code",
      "metadata": {
        "id": "-NxdLm4HHtw0"
      },
      "source": [
        "# Define nlpaug augmentation object, using word substitute augmentation module.\n",
        "aug10p = nlpaw.ContextualWordEmbsAug(model_path='bert-base-uncased', aug_min=1, aug_p=0.2, action=\"substitute\")"
      ],
      "execution_count": null,
      "outputs": []
    },
    {
      "cell_type": "markdown",
      "metadata": {
        "id": "oKbhx2WXt5N1"
      },
      "source": [
        "#### Testing out sample Text for augmentation "
      ]
    },
    {
      "cell_type": "code",
      "metadata": {
        "id": "nYFEkaLOGmTl"
      },
      "source": [
        "# Text Augmentation\n",
        "\n",
        "def augment_sentence(sentence, aug = aug10p, num_threads = 2):\n",
        "    \"\"\"\"\"\"\"\"\"\n",
        "    Constructs a new sentence via text augmentation.\n",
        "    \n",
        "    Input:\n",
        "        - sentence:     A string of text\n",
        "        - aug:          An augmentation object defined by the nlpaug library\n",
        "        - num_threads:  Integer controlling the number of threads to use if\n",
        "                        augmenting text via CPU\n",
        "    Output:\n",
        "        - A string of text that been augmented\n",
        "    \"\"\"\"\"\"\"\"\"\n",
        "    return aug.augment(sentence, num_thread=num_threads)\n",
        "\n",
        "\n",
        "print(X_train[X_train['target']== 1]['Text'][2:3])\n",
        "print(augment_sentence(X_train[X_train['target']== 1]['Text'][2:3].to_list(), aug10p, num_threads = 2))"
      ],
      "execution_count": null,
      "outputs": []
    },
    {
      "cell_type": "markdown",
      "metadata": {
        "id": "ZDXweH3Dw-KB"
      },
      "source": [
        "#### Function Performing Text Augmentation on Train Data for category of insincere questions.  "
      ]
    },
    {
      "cell_type": "code",
      "metadata": {
        "id": "Hy8U2A4Lt-yt"
      },
      "source": [
        "def augment_text(df, aug, num_threads, aug_perc): #num_times\n",
        "    \"\"\"\"\"\"\"\"\"\n",
        "    Takes a pandas DataFrame and augments its text data.\n",
        "    \n",
        "    Input:\n",
        "        - df:            A pandas DataFrame containing the columns:\n",
        "                                - 'text' containing strings of text to augment.\n",
        "                                - 'target' binary target variable containing 0's and 1's.\n",
        "        - aug:           Augmentation object defined by the nlpaug library.\n",
        "        - num_threads:   Integer controlling number of threads to use if augmenting\n",
        "                         text via CPU\n",
        "        - aug_perc:     percentage of text data to be augmented.\n",
        "    Output:\n",
        "        - df:            Copy of the same pandas DataFrame with augmented data \n",
        "                         appended to it and with rows randomly shuffled.\n",
        "    \"\"\"\"\"\"\"\"\"\n",
        "    \n",
        "    # Get rows of data to augment\n",
        "\n",
        "    to_augment = df[df['target']==1]\n",
        "    sample_rows = int(len(to_augment) * aug_perc )\n",
        "    sample_rnge = (list(random.sample(range(len(to_augment)), sample_rows)))\n",
        "    to_augment = to_augment.iloc[sample_rnge,:]\n",
        "    to_augmentX = to_augment['Text']\n",
        "    to_augmentY = np.ones( int(len(to_augmentX.index)), dtype=np.int8)\n",
        "    \n",
        "\n",
        "    # Build up dictionary containing augmented data\n",
        "    aug_dict = {'Text':[], 'target':to_augmentY}\n",
        "    for i in tqdm(range(1)):\n",
        "        augX = [augment_sentence(x, aug, num_threads) for x in to_augmentX]\n",
        "        aug_dict['Text'].extend(augX)\n",
        "    \n",
        "    # Build DataFrame containing augmented data\n",
        "    aug_df = pd.DataFrame.from_dict(aug_dict)\n",
        "    return aug_df"
      ],
      "execution_count": null,
      "outputs": []
    },
    {
      "cell_type": "code",
      "metadata": {
        "id": "7bAh7YA3GX9m"
      },
      "source": [
        "\n",
        "# from google.colab import files\n",
        "# Upsample minority class ('isToxic' == 1) to create a roughly 50-50 class distribution\n",
        "# augmented_df = augment_text(X_train, aug10p, num_threads=4, aug_perc= 0.1)\n",
        "\n",
        "# augmented_df.to_csv('augmented_data.csv')\n",
        "# files.download('augmented_data.csv') "
      ],
      "execution_count": null,
      "outputs": []
    },
    {
      "cell_type": "markdown",
      "metadata": {
        "id": "AgL24DlcLNC0"
      },
      "source": [
        "### Downloading Distiliber model from Transformers"
      ]
    },
    {
      "cell_type": "code",
      "metadata": {
        "colab": {
          "base_uri": "https://localhost:8080/",
          "height": 145,
          "referenced_widgets": [
            "28aa42183c96462bb9118bc4a2ac2514",
            "13ed9536856c4cab9e4276f51b232f1d",
            "35048246aed845618b6509f0a4e9514c",
            "adcb0ce5724d4f8ea1568eb19d8f9fc3",
            "fd2e5c3a5e36455bb5eb9b92922a6519",
            "6db5c60a164d4eb2aae96b546ea5c845",
            "efde14eb9b9548788cc2d123c35f286e",
            "74da972d199447198e881bdfac071122",
            "230f2cd6b81e4941a9a841cc20ab14bf",
            "04c54c0f5599447dbce4016fc6692304",
            "4bebf70859944d95a8d75ff85f732517",
            "41c118c76a74419da40ef192a4006c4b",
            "b346b7ad7b224a02bd2613c373bb229e",
            "c6d888b7afa8442ab6a40ef83cab9d4a",
            "41842b966544453f849f3681f3e506e1",
            "e30eea3619ff4f248ac80cf260705e6e",
            "5cc7317e288c42b0b49ec13d53c4ba45",
            "3b6ef3cca7434fea917e50f5971aab37",
            "eac0b2b5e9ec40d39ee2425f9632bd8b",
            "4824eaa076d14944aefaefdd36e5052a",
            "96d419d8c61f44a487df24f6496426a6",
            "001c3f26348843eab5a32daf76f8b313",
            "30f044ce9ec04197bb11ce06dc5f3071",
            "7a6e9fa6a6ee49ffabf6e5848659597e",
            "38ee5134193347edab8ad597be88951a",
            "f2cf1d171e0f4e30a0b055641746060c",
            "836c7a7059b048f0836bf7aebd107566",
            "7ac0685038764fa0b564696b026c6b69",
            "320d85eaefd8488db9b2fd3bfdec835f",
            "ee22adcd877248eb861cf8e6a2692bf5",
            "8674178e749345c8a2047834a9a99be8",
            "d6fb66ed96f64cc18b871bdd063d503c",
            "aa5bf81a530344ceb5420a23d000a264",
            "95a835e5c6574b478b75f05b51c72a7a",
            "3ae04c547d1e402d85559d41c7b2c997",
            "d1af102ec43140039d6e381bb80cc028",
            "07fdd838c2144931a3db2dd67f1da41f",
            "68857d2ecee74a269cd61772b55d43ea",
            "89ee9a24628349d8b7c54f2fb112d41c",
            "279bcf3451654ea281f8855a0241101d",
            "41a3d3d0aa1244a1b266a9c925203d37",
            "7954ff498b464db591c03649cbdf03cd",
            "7f59004b94aa4a13a909d4587defd832",
            "3576c4eb924f4f7b9fba2fac8149784e"
          ]
        },
        "id": "kgovbqawDajG",
        "outputId": "37145a38-8098-4888-8dea-a0a45f755fae"
      },
      "source": [
        "from transformers import DistilBertTokenizerFast\n",
        "\n",
        "# Instantiate DistilBERT tokenizer...we use the Fast version to optimize runtime\n",
        "tokenizer = DistilBertTokenizerFast.from_pretrained('distilbert-base-uncased')"
      ],
      "execution_count": null,
      "outputs": [
        {
          "output_type": "display_data",
          "data": {
            "application/vnd.jupyter.widget-view+json": {
              "model_id": "28aa42183c96462bb9118bc4a2ac2514",
              "version_minor": 0,
              "version_major": 2
            },
            "text/plain": [
              "Downloading:   0%|          | 0.00/226k [00:00<?, ?B/s]"
            ]
          },
          "metadata": {}
        },
        {
          "output_type": "display_data",
          "data": {
            "application/vnd.jupyter.widget-view+json": {
              "model_id": "41c118c76a74419da40ef192a4006c4b",
              "version_minor": 0,
              "version_major": 2
            },
            "text/plain": [
              "Downloading:   0%|          | 0.00/455k [00:00<?, ?B/s]"
            ]
          },
          "metadata": {}
        },
        {
          "output_type": "display_data",
          "data": {
            "application/vnd.jupyter.widget-view+json": {
              "model_id": "30f044ce9ec04197bb11ce06dc5f3071",
              "version_minor": 0,
              "version_major": 2
            },
            "text/plain": [
              "Downloading:   0%|          | 0.00/28.0 [00:00<?, ?B/s]"
            ]
          },
          "metadata": {}
        },
        {
          "output_type": "display_data",
          "data": {
            "application/vnd.jupyter.widget-view+json": {
              "model_id": "95a835e5c6574b478b75f05b51c72a7a",
              "version_minor": 0,
              "version_major": 2
            },
            "text/plain": [
              "Downloading:   0%|          | 0.00/483 [00:00<?, ?B/s]"
            ]
          },
          "metadata": {}
        }
      ]
    },
    {
      "cell_type": "markdown",
      "source": [
        "### Creating word tokenizer"
      ],
      "metadata": {
        "id": "yF9h_Ydbqfus"
      }
    },
    {
      "cell_type": "code",
      "metadata": {
        "id": "kjhzPZoHQ3op"
      },
      "source": [
        "\n",
        "# Define the maximum number of words to tokenize, keeping it 40 for model to train faster (DistilBERT can tokenize up to 512)\n",
        "MAX_LENGTH = 40\n",
        "\n",
        "# Define function to encode text data in batches\n",
        "def batch_encode(tokenizer, texts, batch_size=256, max_length=MAX_LENGTH):\n",
        "    \"\"\"\"\"\"\"\"\"\n",
        "    A function that encodes a batch of texts and returns the texts'\n",
        "    corresponding encodings and attention masks that are ready to be fed \n",
        "    into a pre-trained transformer model.\n",
        "    \n",
        "    Input:\n",
        "        - tokenizer:   Tokenizer object from the PreTrainedTokenizer Class\n",
        "        - texts:       List of strings where each string represents a text\n",
        "        - batch_size:  Integer controlling number of texts in a batch\n",
        "        - max_length:  Integer controlling max number of words to tokenize in a given text\n",
        "    Output:\n",
        "        - input_ids:       sequence of texts encoded as a tf.Tensor object\n",
        "        - attention_mask:  the texts' attention mask encoded as a tf.Tensor object\n",
        "    \"\"\"\"\"\"\"\"\"\n",
        "    input = tokenizer.batch_encode_plus(texts,\n",
        "                                             max_length=max_length,\n",
        "                                             padding= \"max_length\", \n",
        "                                             truncation=True,\n",
        "                                             return_attention_mask=True,\n",
        "                                             return_token_type_ids=False)\n",
        "    input_ids = input['input_ids']\n",
        "    attention_mask = input['attention_mask']\n",
        "\n",
        "\n",
        "    return tf.convert_to_tensor(input_ids) , tf.convert_to_tensor(attention_mask)\n",
        "    \n",
        "    \n",
        "# Encode X_train\n",
        "X_train_ids , X_train_attention = batch_encode(tokenizer, X_train['Text'].values.tolist()) \n",
        "\n",
        "# Encode X_valid\n",
        "X_valid_ids, X_valid_attention = batch_encode(tokenizer, X_test['Text'].values.tolist())\n",
        "\n",
        "# Encode production data to test model performance in production.\n",
        "# X_test_ids, X_test_attention = batch_encode(tokenizer, X_test.tolist())"
      ],
      "execution_count": null,
      "outputs": []
    },
    {
      "cell_type": "markdown",
      "metadata": {
        "id": "R9uikQWEJ0mD"
      },
      "source": [
        "### Visulaizing the Input Data structure Model."
      ]
    },
    {
      "cell_type": "code",
      "metadata": {
        "colab": {
          "base_uri": "https://localhost:8080/",
          "height": 1000,
          "referenced_widgets": [
            "464fd940e335466db49067baee1240cc",
            "fcd3f9f6baf04bc0931402638bf8c1f6",
            "cd1b451602e84822a1b371819b48b40d",
            "74366d489f0849b0965c2f461da6a590",
            "7329d34ed1bb40659aa5a7b203df3648",
            "4a927c71f2af43a29c44f8325f4f7a23",
            "c24f678519b04b0a88755e84f59155e6",
            "59301bd530f148c593612ea4c9cf825c",
            "4e926183157042398e9281d2b6b7347a",
            "c56d68da59ed4a0ca2f0d3f7bf9f135b",
            "e826f30a062a401d89c5f40b59a0f243"
          ]
        },
        "id": "l2FDaGqVRqBG",
        "outputId": "80ad8fd5-19cb-4491-d6f7-d080f9eb27eb"
      },
      "source": [
        "\n",
        "# Importing Pretrained Model of Distilbert. \n",
        "my_model = DistilBertModel.from_pretrained('distilbert-base-uncased')\n",
        "\n",
        "\n",
        "# Sample text from the corpus.\n",
        "sample_t = X_train['Text'][0:1].to_list()\n",
        "\n",
        "\n",
        "#  About Corpus\n",
        "print('Sample Corpus: ', sample_t)\n",
        "print('Length of Corpus: ' , len(sample_t[0].split()) )\n",
        "\n",
        "#  Tokenizing Sample Sentence\n",
        "sample_inputs = tokenizer.batch_encode_plus(sample_t,return_tensors=\"pt\",\n",
        "                                               max_length=MAX_LENGTH,\n",
        "                                               padding= \"max_length\",\n",
        "                                               truncation=True,\n",
        "                                               return_attention_mask=True,\n",
        "                                               return_token_type_ids=False)\n",
        "\n",
        "\n",
        "# Input Ids \n",
        "print('Input Ids: ', sample_inputs['input_ids'])\n",
        "print('length of input Ids: ', len(sample_inputs['input_ids'][0]))\n",
        "\n",
        "# Attention mask on Corpus\n",
        "print('Attention Mask: ', sample_inputs['attention_mask'])\n",
        "print('length of Attention Mask: ', len(sample_inputs['attention_mask'][0]))\n",
        "\n",
        "#  Corpus tranformation Ouput that would be input for the model. \n",
        "#  the model generates 3D structure which would be holding information for  each word having vector size of 768.\n",
        "#  Using the 3D structure can provide high good results but would take up quite amount of time to train the model.\n",
        "# We would using 768 vecotr of the first word, as that also holds information  for complete sentence. \n",
        "# The first word  embedding vector also contains the sentence feature, so we will be using First word embedding.\n",
        "\n",
        "outputs = my_model(**sample_inputs)\n",
        "\n",
        "last_hidden_states = outputs.last_hidden_state\n",
        "\n",
        "# 3D structure of the 40 words corpus \n",
        "print('Structure of  corpus: ', last_hidden_states.shape)\n",
        "\n",
        "# We only care about DistilBERT's output for the [CLS] token, \n",
        "# which is located at index 0 of every encoded sequence.  \n",
        "# Splicing out the [CLS] tokens gives us 2D data.\n",
        "# sentence embedding of 768 vector size.\n",
        "print('Ouput of CLS token(Sentence embedding): ', last_hidden_states[:,0,:])"
      ],
      "execution_count": null,
      "outputs": [
        {
          "output_type": "display_data",
          "data": {
            "application/vnd.jupyter.widget-view+json": {
              "model_id": "464fd940e335466db49067baee1240cc",
              "version_minor": 0,
              "version_major": 2
            },
            "text/plain": [
              "Downloading:   0%|          | 0.00/256M [00:00<?, ?B/s]"
            ]
          },
          "metadata": {}
        },
        {
          "output_type": "stream",
          "name": "stderr",
          "text": [
            "Some weights of the model checkpoint at distilbert-base-uncased were not used when initializing DistilBertModel: ['vocab_layer_norm.bias', 'vocab_layer_norm.weight', 'vocab_projector.weight', 'vocab_transform.weight', 'vocab_transform.bias', 'vocab_projector.bias']\n",
            "- This IS expected if you are initializing DistilBertModel from the checkpoint of a model trained on another task or with another architecture (e.g. initializing a BertForSequenceClassification model from a BertForPreTraining model).\n",
            "- This IS NOT expected if you are initializing DistilBertModel from the checkpoint of a model that you expect to be exactly identical (initializing a BertForSequenceClassification model from a BertForSequenceClassification model).\n"
          ]
        },
        {
          "output_type": "stream",
          "name": "stdout",
          "text": [
            "Sample Corpus:  ['what be a good attention grabber for my argumentative essay on whether scientology be a cult or religion']\n",
            "Length of Corpus:  18\n",
            "Input Ids:  tensor([[  101,  2054,  2022,  1037,  2204,  3086,  6723,  5677,  2005,  2026,\n",
            "          6685,  8082,  9491,  2006,  3251, 23845,  2022,  1037,  8754,  2030,\n",
            "          4676,   102,     0,     0,     0,     0,     0,     0,     0,     0,\n",
            "             0,     0,     0,     0,     0,     0,     0,     0,     0,     0]])\n",
            "length of input Ids:  40\n",
            "Attention Mask:  tensor([[1, 1, 1, 1, 1, 1, 1, 1, 1, 1, 1, 1, 1, 1, 1, 1, 1, 1, 1, 1, 1, 1, 0, 0,\n",
            "         0, 0, 0, 0, 0, 0, 0, 0, 0, 0, 0, 0, 0, 0, 0, 0]])\n",
            "length of Attention Mask:  40\n",
            "Structure of  corpus:  torch.Size([1, 40, 768])\n",
            "Ouput of CLS token(Sentence embedding):  tensor([[ 4.2617e-02,  4.7115e-02, -3.1044e-01, -2.4072e-01, -3.0574e-02,\n",
            "         -1.4295e-01,  2.2153e-01,  3.9752e-01, -4.8928e-02, -9.3441e-02,\n",
            "          1.2566e-01, -7.9719e-02, -1.3623e-01,  2.3626e-01,  8.3005e-02,\n",
            "          2.8721e-01, -8.9455e-02,  4.5591e-02,  2.4777e-01, -2.3949e-02,\n",
            "         -4.9987e-02, -1.5528e-01, -3.9522e-02,  1.1506e-01,  1.0309e-01,\n",
            "         -3.6730e-02,  8.5520e-02,  6.1301e-02,  3.4065e-02, -7.5990e-02,\n",
            "          7.5195e-02,  1.3095e-01, -6.3134e-02, -1.9693e-01,  1.2032e-01,\n",
            "          3.1795e-02,  1.4490e-01, -9.3319e-02,  7.1590e-02,  1.2329e-01,\n",
            "         -7.6164e-02,  2.2305e-01,  1.7622e-01,  1.6802e-02, -5.4023e-02,\n",
            "         -1.6568e-01, -2.3180e+00, -1.8190e-01, -2.4535e-01, -1.2298e-01,\n",
            "          2.0099e-01,  8.3822e-02,  1.4677e-01,  2.9683e-01,  3.2368e-01,\n",
            "          2.4819e-01, -2.7838e-01,  2.2368e-01, -5.3817e-02,  2.5083e-02,\n",
            "          2.2810e-01,  7.5370e-02,  2.7650e-02, -1.3971e-01,  5.5559e-02,\n",
            "          9.2084e-02,  2.0576e-02,  1.9298e-01, -2.6762e-01,  4.2124e-01,\n",
            "         -2.2367e-01, -1.4941e-01,  2.2076e-02,  1.8337e-02,  2.9519e-02,\n",
            "         -8.7246e-02,  1.8687e-01,  2.9547e-01, -1.6481e-01,  4.5543e-02,\n",
            "         -4.8740e-02,  4.0867e-01,  1.9193e-01,  1.6882e-01, -2.8322e-02,\n",
            "          1.3370e-01, -2.2223e-01,  7.0534e-02,  2.4965e-01,  3.0530e-01,\n",
            "         -2.3818e-01,  1.6603e-02,  7.4825e-02,  3.7386e-01,  5.2775e-01,\n",
            "         -4.7605e-01,  1.1189e-01, -1.6331e-01,  8.3882e-02,  3.0059e-01,\n",
            "          2.2605e-01, -7.7723e-02,  1.4515e-01, -3.3550e-01,  7.9185e-02,\n",
            "         -1.0658e-01,  4.8520e-02, -2.8213e-01,  8.6546e-03, -2.4591e+00,\n",
            "          4.0821e-01,  4.1009e-01, -2.6775e-01, -3.7344e-01, -1.4240e-02,\n",
            "          3.9611e-01,  1.8946e-01, -2.2862e-02, -4.4190e-03,  3.0629e-02,\n",
            "         -7.0090e-02,  4.8342e-01, -1.8482e-01, -1.1160e-01,  8.7861e-02,\n",
            "          6.9210e-02,  1.2292e-01, -1.0264e-01,  3.4610e-02,  1.1519e-01,\n",
            "          2.7752e-01,  2.8920e-01,  1.5862e-02, -2.2716e-01, -3.1013e-01,\n",
            "          3.0714e-01,  3.6852e-01, -1.1939e-01, -3.1589e-02,  1.9700e-01,\n",
            "         -1.6857e-01, -2.4031e-01, -2.8585e+00,  3.0124e-02,  4.4557e-01,\n",
            "         -2.5532e-02, -2.8792e-02,  2.0108e-01,  3.6979e-02,  1.9739e-02,\n",
            "          1.6223e-01,  6.0473e-02, -2.8660e-01,  8.1910e-02, -1.4326e-01,\n",
            "         -5.9778e-02, -1.7543e-01,  9.1116e-02,  3.6091e-01,  8.4562e-02,\n",
            "          2.2825e-01, -8.5287e-02,  4.6128e-02, -8.1212e-02, -1.2517e-01,\n",
            "          1.3264e-01,  3.7515e-01, -2.2543e-03,  1.2208e-01,  5.9300e-03,\n",
            "         -6.9996e-02, -6.8067e-02,  3.6800e-01, -1.7250e-01,  3.2550e-01,\n",
            "          2.0716e-01,  1.3435e-01,  2.6312e-01,  6.3802e-02,  1.2612e-02,\n",
            "         -9.7078e-02,  1.9968e-01,  5.9611e-02,  2.8455e-02,  1.3237e-01,\n",
            "         -7.6272e-02,  1.5371e-01, -1.7000e-01, -4.3004e-02,  4.1417e-01,\n",
            "         -8.3543e-02, -4.6824e-01,  5.4052e-02, -4.1828e-02,  3.9621e-01,\n",
            "          3.7945e-02,  1.7416e-01, -3.6162e-01,  1.6907e-01,  1.4980e-01,\n",
            "         -1.9632e-01, -3.2579e-02, -8.0518e-02,  1.6300e-01, -2.4282e-01,\n",
            "          3.6267e+00,  7.6240e-02, -4.3108e-03, -7.4757e-02,  2.2400e-01,\n",
            "          6.8718e-02,  2.4703e-02, -1.9541e-01, -9.2765e-02, -6.5672e-02,\n",
            "          1.5771e-02,  1.9898e-01,  2.0310e-01, -1.5739e-01, -7.9802e-02,\n",
            "          3.1294e-01,  1.4541e-01, -5.8491e-02,  1.3676e-01, -1.7316e-01,\n",
            "          1.9999e-01, -1.2503e-01,  3.0011e-01,  1.6218e-01, -1.0922e+00,\n",
            "          7.2228e-02,  3.0630e-02, -2.2253e-02,  3.2769e-01, -1.1028e-01,\n",
            "         -1.3323e-01, -2.1820e-01, -3.8510e-02,  2.5891e-01,  8.5224e-02,\n",
            "         -1.9061e-01,  7.4972e-02,  1.1533e-01,  3.6203e-01, -2.7880e-01,\n",
            "          2.1250e-01,  1.6717e-01,  1.2856e-01,  4.9963e-02,  2.4066e-02,\n",
            "          9.8630e-02, -9.3412e-02, -1.1456e-01, -1.2927e-01,  5.2094e-02,\n",
            "          1.1343e-01, -6.1027e-02,  1.4150e-01, -2.7724e-01, -1.0466e-01,\n",
            "         -1.8623e-01, -1.4635e-02,  1.8256e-01,  8.6757e-02, -2.4712e-01,\n",
            "          4.6716e-02,  8.1006e-02, -2.6797e-01,  1.5427e-01,  8.7034e-02,\n",
            "         -1.3897e-01, -3.8099e-02, -4.3820e-01, -3.6835e+00, -4.4373e-02,\n",
            "         -1.0329e-01,  1.4192e-01,  1.1669e-01, -1.6268e-01,  2.5814e-01,\n",
            "          4.6404e-02,  3.1964e-01, -3.2427e-01,  3.8390e-01, -6.4237e-02,\n",
            "          3.4477e-02,  2.4154e-01, -4.7459e-01,  1.9606e-01,  7.3311e-02,\n",
            "         -2.2176e-01, -4.4310e-03, -9.9467e-02, -1.8835e-01,  1.8253e-01,\n",
            "         -1.1841e-01,  1.5585e-01, -1.8188e-01, -8.7414e-02, -2.3338e-01,\n",
            "         -2.9175e-01, -1.7712e-01,  2.0567e-02,  1.1747e-01, -1.0683e-01,\n",
            "          1.4132e-01, -9.2503e-02, -1.7586e-01, -2.6280e+00,  3.7324e-02,\n",
            "         -9.7289e-02, -2.4269e-02,  4.9746e-02,  1.0405e-01,  2.7256e-01,\n",
            "         -2.2837e-01, -3.7090e-01, -1.3397e-01,  7.2084e-02, -3.2245e-02,\n",
            "          8.4838e-03,  2.8835e-01,  2.3381e-01,  6.0290e-02,  1.7682e-01,\n",
            "         -1.2294e-01,  9.9183e-02,  2.8134e-01, -1.0659e-01,  1.5416e-01,\n",
            "         -2.0675e-02, -1.5199e-01,  9.9006e-02,  5.6508e-01, -3.5412e-01,\n",
            "          5.8759e-02, -1.4984e-01, -3.9958e-02,  2.3196e-01, -2.7299e-01,\n",
            "          1.0809e-02, -1.6751e-01, -7.5765e-02,  5.6139e-02,  2.7354e-02,\n",
            "          2.1677e-01,  2.8548e-01,  7.6451e-02, -1.1909e-01,  4.8189e-01,\n",
            "          7.1690e-02,  9.1684e-02,  6.6358e-01,  1.2137e-01,  2.8705e-02,\n",
            "         -1.9905e-01, -9.8012e-02, -4.0276e-02, -7.8351e-02,  1.2054e-01,\n",
            "          1.1147e+00, -2.7458e-02,  1.3119e-01, -2.1310e-01,  3.5655e-01,\n",
            "         -6.2679e-02, -1.5054e-02,  1.2841e-01,  5.5599e-01, -1.8816e-01,\n",
            "          2.5308e-01, -1.3147e-01, -1.1785e-02, -3.4537e-01,  1.1715e-01,\n",
            "         -3.7040e-01,  7.4937e-02, -7.8304e-02, -1.7060e-01,  4.4997e-01,\n",
            "         -1.0664e-01, -8.0041e-01, -1.2969e-01, -4.1022e-02, -2.2346e-01,\n",
            "          2.1441e-01, -1.2530e-01,  1.6604e-01, -3.4411e-01, -3.1379e-02,\n",
            "         -2.3805e-01,  1.2289e-01, -1.0643e-01, -1.2430e-01, -1.4999e-01,\n",
            "          7.2055e-02, -5.0216e-01,  4.1144e-02, -8.1273e-02,  2.9341e-01,\n",
            "          1.1436e-01,  2.4619e-01,  7.0112e-02, -2.0913e-02,  2.9459e-01,\n",
            "         -7.9242e-01,  2.0091e-01, -4.5423e-02,  7.4860e-02, -1.9110e-01,\n",
            "         -2.1339e-02, -8.8201e-02, -2.4804e-01, -8.4516e-02, -8.9577e-02,\n",
            "          3.3988e-01, -1.6748e-03, -2.8547e-02,  3.2892e-02,  1.8072e-02,\n",
            "          9.1910e-02,  1.3066e-02,  8.9296e-01,  1.2958e-01, -1.8856e-01,\n",
            "          1.5827e-01,  7.0643e-02,  1.5560e-01,  2.7448e-01, -6.9516e-03,\n",
            "         -1.1577e-02, -8.9272e-02, -3.3108e-01, -1.6401e-01,  1.5439e-01,\n",
            "         -2.4370e-01, -3.1336e-01,  2.1148e-02,  2.0293e-01,  5.1001e-02,\n",
            "         -3.7610e-01, -5.4156e-01,  4.7510e-02, -3.2100e-01, -3.9615e-01,\n",
            "          9.5867e-02, -4.8484e-02,  2.6391e-01,  3.8266e-01,  1.5651e-01,\n",
            "         -7.3404e-02,  2.8165e-01, -1.1144e-01,  3.3253e-01,  1.7577e-01,\n",
            "          1.9183e-01, -1.0842e-01,  3.2878e-01, -7.2139e-02, -2.7625e-01,\n",
            "         -5.0187e-02, -3.5682e-01,  4.2774e-01,  2.1650e-01,  2.4158e-01,\n",
            "         -3.2525e-02, -4.4591e-03,  1.4035e-01,  1.1438e-01,  5.3362e-02,\n",
            "         -1.3356e+00,  3.0857e-01,  2.2210e-01,  4.2045e-02, -1.1308e-01,\n",
            "         -1.4646e-01, -1.6400e-01,  1.3387e-01, -2.6663e-02, -1.0003e-02,\n",
            "          5.1446e-03, -1.3305e-01,  5.0066e-02, -6.7513e-02,  6.6493e-02,\n",
            "         -8.7676e-02,  2.7124e-02, -1.5910e-02, -5.0146e-02, -2.1035e-01,\n",
            "         -6.0231e-02,  1.8308e-01,  1.6545e-01, -8.4503e-02, -4.0556e-02,\n",
            "         -1.3564e-01,  2.6788e-02,  4.0040e-01,  1.7448e-01,  1.5649e-01,\n",
            "          9.3959e-02, -4.0107e-01, -7.0724e-01, -1.4875e-01,  2.2597e-01,\n",
            "         -3.5808e-01,  1.3396e-01, -7.7629e-02,  3.9926e-01,  1.5208e-01,\n",
            "         -4.1554e-01,  3.7588e-01,  9.2998e-02, -7.8541e-02,  2.3988e-01,\n",
            "         -7.5402e-02, -3.2609e-01,  2.8423e-01, -3.9395e-03, -4.3073e-02,\n",
            "         -6.1898e-03, -7.8190e-02,  7.0870e-02, -9.5664e-02, -6.7695e-03,\n",
            "         -6.1196e-02, -2.0116e-01,  2.2263e-01, -1.5437e-01, -5.1715e-02,\n",
            "          3.6217e-01, -2.1239e-01, -1.2654e-01,  2.9506e-01, -2.6928e-01,\n",
            "         -5.9153e-01, -2.2824e-01, -1.6392e-01, -2.6350e-01, -9.0478e-02,\n",
            "          3.8645e-01, -4.7875e-02, -1.0960e-01,  4.2805e-02, -1.9356e-01,\n",
            "          2.1437e-01, -7.0974e-02,  1.4964e-01,  1.2052e-01, -1.9103e-01,\n",
            "          1.3148e-01, -3.6873e-01, -1.4778e-01,  2.0891e-01, -1.4884e-01,\n",
            "          2.3136e-01, -2.1305e-01, -1.3267e-01,  1.1851e-02,  6.3756e-02,\n",
            "         -3.8384e-01, -4.4416e-01,  1.3054e-01,  6.1304e-02,  2.8642e-02,\n",
            "         -1.6084e-01,  3.1739e-02, -1.1069e-01, -2.9638e-03, -1.9041e-01,\n",
            "         -2.4829e-01,  3.2135e-01,  1.4319e-01, -9.5898e-02,  1.1831e-01,\n",
            "          1.4602e-01,  2.1750e-01, -1.0800e-02, -3.2040e-01,  2.1547e-02,\n",
            "         -2.5151e-02, -2.7713e-02, -4.0948e-02,  1.6556e-01,  2.3373e-02,\n",
            "         -3.2713e-01, -5.0987e-02, -2.5079e-01,  2.1274e+00,  4.2699e-01,\n",
            "          7.7823e-02, -1.4352e-01,  3.5794e-01,  3.7441e-02, -6.7629e-02,\n",
            "          2.5522e-01,  6.2263e-03,  2.5353e-01, -1.9834e-01, -4.7309e-02,\n",
            "         -8.0010e-02,  1.1146e-01,  3.1472e-01,  2.6081e-01,  1.0555e-01,\n",
            "         -2.2548e-01, -4.5414e-01, -1.5162e-01, -1.6533e-01,  2.5695e-01,\n",
            "          4.9958e-01, -1.1010e-01,  2.3647e-01, -3.7524e-03, -5.2103e-02,\n",
            "         -2.7157e-02,  1.7329e-01,  3.9446e-03,  6.8177e-02,  3.1762e-01,\n",
            "          2.8512e-02,  1.9780e-01, -1.3658e-01,  4.3350e-02,  1.1412e-01,\n",
            "         -3.6356e-01, -1.4673e-01,  1.2944e-01,  1.1056e-02, -1.9686e-01,\n",
            "          4.6038e-01, -1.8288e-02,  6.9026e-02,  1.4842e-01, -7.8815e-02,\n",
            "         -3.5551e-01,  9.6642e-02,  1.3801e-01, -3.2127e-02,  1.3606e-01,\n",
            "         -2.8064e-01,  2.9369e-01, -9.8167e-02,  3.3407e-02, -6.0697e-02,\n",
            "         -1.6173e-01, -1.2533e-01,  3.6446e-01, -5.7043e-02,  2.9265e-01,\n",
            "          2.2289e-01,  6.5994e-02,  8.8321e-02,  8.9448e-02, -2.2797e-01,\n",
            "          2.1751e-01,  1.5368e-01, -7.4379e-02,  1.1263e-01,  3.5062e-01,\n",
            "          2.7099e-01, -7.3053e-03,  1.9852e-01, -3.5995e-02,  3.7118e-01,\n",
            "          5.8952e-02, -2.7500e-01, -2.7802e+00, -3.9576e-02, -5.7728e-02,\n",
            "          9.2953e-02,  8.6051e-02,  4.1207e-01,  2.5977e-01, -2.1761e-01,\n",
            "          1.1155e-02,  1.4389e-02,  7.7502e-02,  2.2491e-01,  4.1891e-01,\n",
            "         -5.1611e-02, -7.9313e-03,  1.0208e-02,  1.4782e-02, -2.5947e-01,\n",
            "         -2.2488e-01,  5.5176e-02, -9.4246e-02,  1.6001e-01, -9.3390e-02,\n",
            "         -2.3363e-01, -2.5307e-01,  2.6669e-01, -4.3988e-02, -1.1640e-01,\n",
            "          1.7848e-01,  2.0997e-01, -2.5419e-01,  2.1475e-01, -1.6077e-01,\n",
            "          3.8664e-02,  7.9903e-02, -2.8258e-01,  2.3278e-02,  7.5271e-02,\n",
            "         -6.7308e-02,  1.6358e-01, -2.7225e-01,  3.2060e-01, -9.7725e-02,\n",
            "          1.3005e-01,  4.2186e-02, -1.2126e-01,  3.0243e-01, -2.9042e-01,\n",
            "          3.2286e-01, -4.6778e-01, -1.7076e-01, -3.5122e-02,  2.6955e-01,\n",
            "         -2.0584e-01,  2.1685e-01,  7.2715e-02,  2.9262e-01,  8.5260e-02,\n",
            "         -1.7702e-02, -1.7670e-01,  1.3269e-02,  8.9660e-02, -3.0624e-02,\n",
            "         -6.0022e-03,  3.0757e-01, -2.4830e-01, -1.7257e-01,  3.2747e-02,\n",
            "         -1.9730e-01,  6.8087e-03, -1.0253e-01, -1.5082e-01,  2.1770e-01,\n",
            "          1.9696e-01,  1.0189e-01,  6.8932e-02,  1.8274e-01,  5.6482e-01,\n",
            "          2.1135e-01,  2.0494e-01, -5.8722e-02, -1.9316e-01, -8.2601e-02,\n",
            "          1.1238e-01,  1.2892e-01, -7.5879e+00, -2.2976e-01, -2.7891e-02,\n",
            "         -3.3146e-01, -6.9971e-02, -1.9486e-01, -2.2891e-02, -1.0170e-01,\n",
            "         -1.0457e-02, -3.3318e-01,  1.0770e-01, -3.8058e-02, -5.5722e-02,\n",
            "         -3.5314e-02,  4.0981e-01,  2.5973e-01]], grad_fn=<SliceBackward0>)\n"
          ]
        }
      ]
    },
    {
      "cell_type": "markdown",
      "metadata": {
        "id": "vLIchNmRgGda"
      },
      "source": [
        "### Initializing the base model"
      ]
    },
    {
      "cell_type": "code",
      "metadata": {
        "colab": {
          "base_uri": "https://localhost:8080/",
          "height": 156,
          "referenced_widgets": [
            "6c4d105f38c34e91bb5dcbd226b08092",
            "ac153fce14534eeeb2d148b19ec93255",
            "01d532c14ab04aaa85f4eac04409d680",
            "f71add3e06dd475fb906609f3a6d5331",
            "ea79cc7fb50143ae9c8483062ebc7e3c",
            "18d3b68b56b6405c9e7d2d689b7d3796",
            "34ee0f62c34244c59ddada083d540157",
            "8b1fb16da8014207b028af71dc1f47d0",
            "e1b5e2b049764a37a739832191f6e263",
            "46f7b1c8aae94898b5de27112f76d8cc",
            "8aa320a5e51b449c89a69a5082af579d"
          ]
        },
        "id": "Ef6xQfKxSAg5",
        "outputId": "9947076c-d9e3-42f4-f5e1-a331418b5bc3"
      },
      "source": [
        "from transformers import TFDistilBertModel, DistilBertConfig\n",
        "\n",
        "DISTILBERT_DROPOUT = 0.2\n",
        "DISTILBERT_ATT_DROPOUT = 0.2\n",
        " \n",
        "# Configure DistilBERT's initialization\n",
        "config = DistilBertConfig(dropout=DISTILBERT_DROPOUT, \n",
        "                          attention_dropout=DISTILBERT_ATT_DROPOUT, \n",
        "                          output_hidden_states=True)\n",
        "                          \n",
        "# The bare, pre-trained DistilBERT transformer model outputting raw hidden-states \n",
        "# and without any specific head on top.\n",
        "distilBERT = TFDistilBertModel.from_pretrained('distilbert-base-uncased', config=config)"
      ],
      "execution_count": null,
      "outputs": [
        {
          "output_type": "display_data",
          "data": {
            "application/vnd.jupyter.widget-view+json": {
              "model_id": "6c4d105f38c34e91bb5dcbd226b08092",
              "version_minor": 0,
              "version_major": 2
            },
            "text/plain": [
              "Downloading:   0%|          | 0.00/347M [00:00<?, ?B/s]"
            ]
          },
          "metadata": {}
        },
        {
          "output_type": "stream",
          "name": "stderr",
          "text": [
            "Some layers from the model checkpoint at distilbert-base-uncased were not used when initializing TFDistilBertModel: ['activation_13', 'vocab_transform', 'vocab_layer_norm', 'vocab_projector']\n",
            "- This IS expected if you are initializing TFDistilBertModel from the checkpoint of a model trained on another task or with another architecture (e.g. initializing a BertForSequenceClassification model from a BertForPreTraining model).\n",
            "- This IS NOT expected if you are initializing TFDistilBertModel from the checkpoint of a model that you expect to be exactly identical (initializing a BertForSequenceClassification model from a BertForSequenceClassification model).\n",
            "All the layers of TFDistilBertModel were initialized from the model checkpoint at distilbert-base-uncased.\n",
            "If your task is similar to the task the model of the checkpoint was trained on, you can already use TFDistilBertModel for predictions without further training.\n"
          ]
        }
      ]
    },
    {
      "cell_type": "markdown",
      "metadata": {
        "id": "JwqvFY2YHsHQ"
      },
      "source": [
        "### Model Evaluation Parameters."
      ]
    },
    {
      "cell_type": "code",
      "metadata": {
        "id": "8C48YEL0aYFl"
      },
      "source": [
        "#https://datascience.stackexchange.com/questions/45165/how-to-get-accuracy-f1-precision-and-recall-for-a-keras-model\n",
        "\n",
        "from keras import backend as K\n",
        "\n",
        "def recall_m(y_true, y_pred):\n",
        "    true_positives = K.sum(K.round(K.clip(y_true * y_pred, 0, 1)))\n",
        "    possible_positives = K.sum(K.round(K.clip(y_true, 0, 1)))\n",
        "    recall = true_positives / (possible_positives + K.epsilon())\n",
        "    return recall\n",
        "\n",
        "def precision_m(y_true, y_pred):\n",
        "    true_positives = K.sum(K.round(K.clip(y_true * y_pred, 0, 1)))\n",
        "    predicted_positives = K.sum(K.round(K.clip(y_pred, 0, 1)))\n",
        "    precision = true_positives / (predicted_positives + K.epsilon())\n",
        "    return precision\n",
        "\n",
        "def f1_m(y_true, y_pred):\n",
        "    precision = precision_m(y_true, y_pred)\n",
        "    recall = recall_m(y_true, y_pred)\n",
        "    return 2*((precision*recall)/(precision+recall+K.epsilon()))"
      ],
      "execution_count": null,
      "outputs": []
    },
    {
      "cell_type": "code",
      "metadata": {
        "id": "CPR-qtNAZSBv"
      },
      "source": [
        "\n",
        "MAX_LENGTH = 40\n",
        "LAYER_DROPOUT = 0.2\n",
        "LEARNING_RATE = 5e-5\n",
        "RANDOM_STATE = 42\n",
        "\n",
        "def build_model(transformer, max_length=MAX_LENGTH, trainable = False):\n",
        "    \"\"\"\n",
        "    Template for building a model off of the BERT or DistilBERT architecture\n",
        "    for a binary classification task.\n",
        "    \n",
        "    Input:\n",
        "      - transformer:  a base Hugging Face transformer model object (BERT or DistilBERT)\n",
        "                      with no added classification head attached.\n",
        "      - max_length:   integer controlling the maximum number of encoded tokens \n",
        "                      in a given sequence.\n",
        "    \n",
        "    Output:\n",
        "      - model:        a compiled tf.keras.Model with added classification layers \n",
        "                      on top of the base pre-trained model architecture.\n",
        "    \"\"\"\n",
        "    \n",
        "    # Define weight initializer with a random seed to ensure reproducibility\n",
        "    weight_initializer = tf.keras.initializers.GlorotNormal(seed=RANDOM_STATE) \n",
        "    \n",
        "    # Define input layers\n",
        "    input_ids_layer = tf.keras.layers.Input(shape=(max_length,), \n",
        "                                            name='input_ids', \n",
        "                                            dtype='int32')\n",
        "    input_attention_layer = tf.keras.layers.Input(shape=(max_length,), \n",
        "                                                  name='input_attention', \n",
        "                                                  dtype='int32')\n",
        "    \n",
        "    # DistilBERT outputs a tuple where the first element at index 0\n",
        "    # represents the hidden-state at the output of the model's last layer.\n",
        "    # It is a tf.Tensor of shape (batch_size, sequence_length, hidden_size=768).\n",
        "    last_hidden_state = transformer([input_ids_layer, input_attention_layer])[0]\n",
        "    \n",
        "    # We only care about DistilBERT's output for the [CLS] token, \n",
        "    # which is located at index 0 of every encoded sequence.  \n",
        "    # Splicing out the [CLS] tokens gives us 2D data.\n",
        "    cls_token = last_hidden_state[:, 0, :]\n",
        "    \n",
        "    ##                                                 ##\n",
        "    ## Define additional dropout and dense layers here ##\n",
        "    ##                                                 ##\n",
        "    \n",
        "    # Define a single node that makes up the output layer (for binary classification)\n",
        "    output = tf.keras.layers.Dense(1, \n",
        "                                   activation='sigmoid',\n",
        "                                   kernel_initializer=weight_initializer,  \n",
        "                                   kernel_constraint=None,\n",
        "                                   bias_initializer='zeros'\n",
        "                                   )(cls_token)\n",
        "    \n",
        "    # Define the model\n",
        "    model = tf.keras.Model([input_ids_layer, input_attention_layer], output)\n",
        "    \n",
        "    # Make DistilBERT layers untrainable\n",
        "    for layer in distilBERT.layers:\n",
        "      layer.trainable = trainable\n",
        "\n",
        "    # Compile the model\n",
        "    model.compile(tf.keras.optimizers.Adam(learning_rate =LEARNING_RATE), \n",
        "                  loss='binary_crossentropy',\n",
        "                  metrics=['acc',f1_m,precision_m, recall_m, tf.keras.metrics.AUC()])\n",
        "    \n",
        "    return model"
      ],
      "execution_count": null,
      "outputs": []
    },
    {
      "cell_type": "markdown",
      "metadata": {
        "id": "FSda1qfmIKFr"
      },
      "source": [
        "### Adding Setting for the Model. (Non-Trainable)"
      ]
    },
    {
      "cell_type": "code",
      "metadata": {
        "colab": {
          "base_uri": "https://localhost:8080/"
        },
        "id": "SOt6UdpxZ_GI",
        "outputId": "0aa9fd3e-75b4-427a-94b2-18e281e87eed"
      },
      "source": [
        "from keras import backend as K\n",
        "#  To start new session of model training from start\n",
        "K.clear_session()\n",
        "\n",
        "#  Building the Model \n",
        "model = build_model(distilBERT, trainable= False)\n",
        "\n",
        "#adding Hyper Parameter Settings\n",
        "# early stopping\n",
        "earlyStopping = tf.keras.callbacks.EarlyStopping(monitor= 'val_auc', \n",
        "                                                 patience=3,\n",
        "                                                 mode='max',\n",
        "                                                 restore_best_weights=True)\n",
        "model.summary()"
      ],
      "execution_count": null,
      "outputs": [
        {
          "output_type": "stream",
          "name": "stdout",
          "text": [
            "Model: \"model\"\n",
            "__________________________________________________________________________________________________\n",
            " Layer (type)                   Output Shape         Param #     Connected to                     \n",
            "==================================================================================================\n",
            " input_ids (InputLayer)         [(None, 40)]         0           []                               \n",
            "                                                                                                  \n",
            " input_attention (InputLayer)   [(None, 40)]         0           []                               \n",
            "                                                                                                  \n",
            " tf_distil_bert_model (TFDistil  TFBaseModelOutput(l  66362880   ['input_ids[0][0]',              \n",
            " BertModel)                     ast_hidden_state=(N               'input_attention[0][0]']        \n",
            "                                one, 40, 768),                                                    \n",
            "                                 hidden_states=((No                                               \n",
            "                                ne, 40, 768),                                                     \n",
            "                                 (None, 40, 768),                                                 \n",
            "                                 (None, 40, 768),                                                 \n",
            "                                 (None, 40, 768),                                                 \n",
            "                                 (None, 40, 768),                                                 \n",
            "                                 (None, 40, 768),                                                 \n",
            "                                 (None, 40, 768)),                                                \n",
            "                                 attentions=None)                                                 \n",
            "                                                                                                  \n",
            " tf.__operators__.getitem (Slic  (None, 768)         0           ['tf_distil_bert_model[2][7]']   \n",
            " ingOpLambda)                                                                                     \n",
            "                                                                                                  \n",
            " dense (Dense)                  (None, 1)            769         ['tf.__operators__.getitem[0][0]'\n",
            "                                                                 ]                                \n",
            "                                                                                                  \n",
            "==================================================================================================\n",
            "Total params: 66,363,649\n",
            "Trainable params: 769\n",
            "Non-trainable params: 66,362,880\n",
            "__________________________________________________________________________________________________\n"
          ]
        }
      ]
    },
    {
      "cell_type": "markdown",
      "metadata": {
        "id": "iVSURQMtnzuK"
      },
      "source": [
        "### Fitting the Model \n",
        "Had found good reference for setting [Epoch Steps](https://stackoverflow.com/questions/49922252/choosing-number-of-steps-per-epoch)."
      ]
    },
    {
      "cell_type": "code",
      "metadata": {
        "colab": {
          "base_uri": "https://localhost:8080/"
        },
        "id": "YFt9Xqj4ghfz",
        "outputId": "fc6bcc84-e8ac-4acf-ad28-b7894ca02a9d"
      },
      "source": [
        "\n",
        "EPOCHS = 30\n",
        "BATCH_SIZE = 32\n",
        "NUM_STEPS = len(X_train.index) // BATCH_SIZE\n",
        "\n",
        "# Train the model\n",
        "model.fit(\n",
        "    x = [X_train_ids, X_train_attention],\n",
        "    y = y_train.to_numpy(),\n",
        "    epochs = EPOCHS,\n",
        "    batch_size = BATCH_SIZE,\n",
        "    callbacks=[earlyStopping],\n",
        "    steps_per_epoch = NUM_STEPS,\n",
        "    validation_data = ([X_valid_ids, X_valid_attention], y_valid.to_numpy()),\n",
        "    verbose=1)"
      ],
      "execution_count": null,
      "outputs": [
        {
          "output_type": "stream",
          "name": "stdout",
          "text": [
            "Epoch 1/30\n",
            "5641/5641 [==============================] - 374s 65ms/step - loss: 0.0804 - acc: 0.9691 - f1_m: 0.8098 - precision_m: 0.8245 - recall_m: 0.8337 - auc: 0.9868 - val_loss: 0.1509 - val_acc: 0.9470 - val_f1_m: 0.6756 - val_precision_m: 0.7204 - val_recall_m: 0.6892 - val_auc: 0.9525\n",
            "Epoch 2/30\n",
            "5641/5641 [==============================] - 364s 64ms/step - loss: 0.0788 - acc: 0.9697 - f1_m: 0.8080 - precision_m: 0.8230 - recall_m: 0.8307 - auc: 0.9872 - val_loss: 0.1511 - val_acc: 0.9469 - val_f1_m: 0.6774 - val_precision_m: 0.7203 - val_recall_m: 0.6924 - val_auc: 0.9523\n",
            "Epoch 3/30\n",
            "5641/5641 [==============================] - 364s 64ms/step - loss: 0.0787 - acc: 0.9698 - f1_m: 0.8104 - precision_m: 0.8250 - recall_m: 0.8335 - auc: 0.9874 - val_loss: 0.1516 - val_acc: 0.9470 - val_f1_m: 0.6785 - val_precision_m: 0.7195 - val_recall_m: 0.6954 - val_auc: 0.9522\n",
            "Epoch 4/30\n",
            "5641/5641 [==============================] - 364s 64ms/step - loss: 0.0787 - acc: 0.9697 - f1_m: 0.8090 - precision_m: 0.8227 - recall_m: 0.8335 - auc: 0.9871 - val_loss: 0.1513 - val_acc: 0.9470 - val_f1_m: 0.6776 - val_precision_m: 0.7212 - val_recall_m: 0.6922 - val_auc: 0.9521\n"
          ]
        },
        {
          "output_type": "execute_result",
          "data": {
            "text/plain": [
              "<keras.callbacks.History at 0x7fa650116dd0>"
            ]
          },
          "metadata": {},
          "execution_count": 27
        }
      ]
    },
    {
      "cell_type": "markdown",
      "metadata": {
        "id": "jISHKU94b3l-"
      },
      "source": [
        "### Saving Distilbert Model"
      ]
    },
    {
      "cell_type": "code",
      "metadata": {
        "id": "d4421nW8cHLV"
      },
      "source": [
        "#  Saving Model weights\n",
        "model.save_weights('distilbert/my_model')"
      ],
      "execution_count": null,
      "outputs": []
    },
    {
      "cell_type": "markdown",
      "metadata": {
        "id": "bBgUB_aicUf9"
      },
      "source": [
        "### Loading saved model."
      ]
    },
    {
      "cell_type": "code",
      "metadata": {
        "id": "KYj2AaRQcY1h"
      },
      "source": [
        "# loading the model params on which it was trained\n",
        "load_model = build_model(distilBERT)\n",
        "\n",
        "#  loading the training weights back to model.\n",
        "load_model.load_weights('distilbert/my_model')"
      ],
      "execution_count": null,
      "outputs": []
    },
    {
      "cell_type": "markdown",
      "metadata": {
        "id": "NORlLbr3eqT_"
      },
      "source": [
        "### Downloading the Model to  local file."
      ]
    },
    {
      "cell_type": "code",
      "metadata": {
        "id": "lWW_evboSJ2m"
      },
      "source": [
        "from google.colab import files\n",
        "!zip -r /content/distilbert_retrained_final.zip /content/distilbert\n",
        "files.download('distilbert_retrained_final.zip')"
      ],
      "execution_count": null,
      "outputs": []
    },
    {
      "cell_type": "code",
      "metadata": {
        "id": "qlugqafDheqM"
      },
      "source": [
        "y_pred = load_model.predict([X_train_ids, X_train_attention])\n",
        "ytest = load_model.predict([X_valid_ids, X_valid_attention])"
      ],
      "execution_count": null,
      "outputs": []
    },
    {
      "cell_type": "code",
      "metadata": {
        "id": "6svB0maSrLZ4"
      },
      "source": [
        "train_pred_binary = np.where(y_pred> 0.49,1,0)\n",
        "test_pred_binary = np.where(ytest> 0.49,1,0)\n",
        "\n",
        "# (180536, 2) (120358, 2)\n",
        "# reshaping array \n",
        "train_pred_binary = train_pred_binary.reshape(180536,)\n",
        "test_pred_binary = test_pred_binary.reshape(120358,)\n",
        "\n",
        "\n",
        "y_train_np = y_train.to_numpy()\n",
        "y_val_np = y_valid.to_numpy()\n",
        "\n",
        "# Accuracy\n",
        "acc = sum(train_pred_binary == y_train_np)/  len(y_train_np)\n",
        "test_acc = sum(test_pred_binary == y_val_np)/  len(y_val_np)\n",
        "print('Accuracy of train model is {}'.format(acc))\n",
        "print('Accuracy of test model is {}'.format(test_acc))\n",
        "\n",
        "\n",
        "# Confusion Matrix\n",
        "from sklearn.metrics import confusion_matrix\n",
        "print(confusion_matrix(y_val,test_pred_binary))\n",
        "\n",
        "\n",
        "#  Recall  , f1 , precision \n",
        "from sklearn.metrics import classification_report\n",
        "print(classification_report(y_val,test_pred_binary))"
      ],
      "execution_count": null,
      "outputs": []
    },
    {
      "cell_type": "code",
      "metadata": {
        "id": "ZoW8SliTr6On"
      },
      "source": [
        "ques = ['will democrats win 2021', 'is he still alive', 'are democrats dumb', 'do blacks support gay', 'name famous black celebreties',\n",
        "        'are republican not racists', 'are white people', 'which race is the smartest', 'what are achivements by trump' ,'kiss',\n",
        "        'are republican racists', 'are muslim extremist', 'is india safe', 'are jews loyal', 'which race is not loyal',\n",
        "        'why republican cry always', 'does trump hate gay', 'is america under dictatorship', 'are muslim terrorist', 'do you support taliban',\n",
        "        'are you fool', 'is china facist country' , 'do americans support holocaust']\n",
        "ques = preprocess_parallel(ques)\n",
        "\n",
        "' '.join(ques[0])\n",
        "# ques = ' '.join(preprocess_parallel(ques))\n",
        "\n",
        "join_corpus =[]\n",
        "for l in ques:\n",
        "  join_corpus.append(' '.join(l))\n",
        "\n",
        "\n",
        "sample_ids, sample_attention = batch_encode(tokenizer, join_corpus)\n",
        "\n",
        "\n",
        "(load_model.predict([sample_ids , sample_attention]))"
      ],
      "execution_count": null,
      "outputs": []
    },
    {
      "cell_type": "markdown",
      "metadata": {
        "id": "zzlmUATuEHQA"
      },
      "source": [
        "### Adding Setting for the Model. (Trainable)"
      ]
    },
    {
      "cell_type": "code",
      "metadata": {
        "colab": {
          "base_uri": "https://localhost:8080/"
        },
        "id": "LXy_TD0hENpq",
        "outputId": "d3f4584a-3d45-45e8-ddd9-99ce7c7f3d8d"
      },
      "source": [
        "from keras import backend as K\n",
        "#  To start new session of model training from start\n",
        "K.clear_session()\n",
        "\n",
        "#  Building the Model \n",
        "model1 = build_model(distilBERT, trainable= True)\n",
        "\n",
        "#adding Hyper Parameter Settings\n",
        "# early stopping\n",
        "earlyStopping = tf.keras.callbacks.EarlyStopping(monitor= 'val_recall_m', \n",
        "                                                 patience=3,\n",
        "                                                 mode='max',\n",
        "                                                 restore_best_weights=True)\n",
        "model1.summary()"
      ],
      "execution_count": null,
      "outputs": [
        {
          "output_type": "stream",
          "name": "stdout",
          "text": [
            "Model: \"model\"\n",
            "__________________________________________________________________________________________________\n",
            " Layer (type)                   Output Shape         Param #     Connected to                     \n",
            "==================================================================================================\n",
            " input_ids (InputLayer)         [(None, 40)]         0           []                               \n",
            "                                                                                                  \n",
            " input_attention (InputLayer)   [(None, 40)]         0           []                               \n",
            "                                                                                                  \n",
            " tf_distil_bert_model (TFDistil  TFBaseModelOutput(l  66362880   ['input_ids[0][0]',              \n",
            " BertModel)                     ast_hidden_state=(N               'input_attention[0][0]']        \n",
            "                                one, 40, 768),                                                    \n",
            "                                 hidden_states=((No                                               \n",
            "                                ne, 40, 768),                                                     \n",
            "                                 (None, 40, 768),                                                 \n",
            "                                 (None, 40, 768),                                                 \n",
            "                                 (None, 40, 768),                                                 \n",
            "                                 (None, 40, 768),                                                 \n",
            "                                 (None, 40, 768),                                                 \n",
            "                                 (None, 40, 768)),                                                \n",
            "                                 attentions=None)                                                 \n",
            "                                                                                                  \n",
            " tf.__operators__.getitem (Slic  (None, 768)         0           ['tf_distil_bert_model[0][7]']   \n",
            " ingOpLambda)                                                                                     \n",
            "                                                                                                  \n",
            " dense (Dense)                  (None, 1)            769         ['tf.__operators__.getitem[0][0]'\n",
            "                                                                 ]                                \n",
            "                                                                                                  \n",
            "==================================================================================================\n",
            "Total params: 66,363,649\n",
            "Trainable params: 66,363,649\n",
            "Non-trainable params: 0\n",
            "__________________________________________________________________________________________________\n"
          ]
        }
      ]
    },
    {
      "cell_type": "markdown",
      "source": [
        "### Fitting Model 2"
      ],
      "metadata": {
        "id": "2YQEny8trv3_"
      }
    },
    {
      "cell_type": "code",
      "metadata": {
        "colab": {
          "base_uri": "https://localhost:8080/"
        },
        "id": "Vd6cys62EWJ4",
        "outputId": "bf88f32b-4de0-43f9-d81f-5d7ff86e1b55"
      },
      "source": [
        "EPOCHS = 30\n",
        "BATCH_SIZE = 64\n",
        "NUM_STEPS = len(X_train.index) // BATCH_SIZE\n",
        "\n",
        "# Train the model\n",
        "model1.fit(\n",
        "    x = [X_train_ids, X_train_attention],\n",
        "    y = y_train.to_numpy(),\n",
        "    epochs = EPOCHS,\n",
        "    batch_size = BATCH_SIZE,\n",
        "    callbacks=[earlyStopping],\n",
        "    steps_per_epoch = NUM_STEPS,\n",
        "    validation_data = ([X_valid_ids, X_valid_attention], y_valid.to_numpy()),\n",
        "    verbose=1)"
      ],
      "execution_count": null,
      "outputs": [
        {
          "output_type": "stream",
          "name": "stdout",
          "text": [
            "Epoch 1/30\n",
            "2820/2820 [==============================] - 611s 213ms/step - loss: 0.1536 - acc: 0.9388 - f1_m: 0.6569 - precision_m: 0.7317 - recall_m: 0.6415 - auc: 0.9516 - val_loss: 0.1382 - val_acc: 0.9461 - val_f1_m: 0.6955 - val_precision_m: 0.7727 - val_recall_m: 0.6648 - val_auc: 0.9609\n",
            "Epoch 2/30\n",
            "2820/2820 [==============================] - 599s 212ms/step - loss: 0.1173 - acc: 0.9534 - f1_m: 0.7511 - precision_m: 0.7855 - recall_m: 0.7560 - auc: 0.9725 - val_loss: 0.1418 - val_acc: 0.9469 - val_f1_m: 0.7164 - val_precision_m: 0.7488 - val_recall_m: 0.7218 - val_auc: 0.9581\n",
            "Epoch 3/30\n",
            "2820/2820 [==============================] - 599s 213ms/step - loss: 0.0886 - acc: 0.9651 - f1_m: 0.8174 - precision_m: 0.8324 - recall_m: 0.8305 - auc: 0.9842 - val_loss: 0.1573 - val_acc: 0.9456 - val_f1_m: 0.6998 - val_precision_m: 0.7569 - val_recall_m: 0.6853 - val_auc: 0.9477\n",
            "Epoch 4/30\n",
            "2820/2820 [==============================] - 599s 212ms/step - loss: 0.0637 - acc: 0.9760 - f1_m: 0.8747 - precision_m: 0.8792 - recall_m: 0.8916 - auc: 0.9913 - val_loss: 0.1782 - val_acc: 0.9440 - val_f1_m: 0.6872 - val_precision_m: 0.7596 - val_recall_m: 0.6609 - val_auc: 0.9369\n",
            "Epoch 5/30\n",
            "2820/2820 [==============================] - 599s 212ms/step - loss: 0.0467 - acc: 0.9826 - f1_m: 0.9075 - precision_m: 0.9106 - recall_m: 0.9198 - auc: 0.9950 - val_loss: 0.2283 - val_acc: 0.9426 - val_f1_m: 0.6789 - val_precision_m: 0.7550 - val_recall_m: 0.6513 - val_auc: 0.9156\n"
          ]
        },
        {
          "output_type": "execute_result",
          "data": {
            "text/plain": [
              "<keras.callbacks.History at 0x7fa6421fea10>"
            ]
          },
          "metadata": {},
          "execution_count": 24
        }
      ]
    },
    {
      "cell_type": "code",
      "metadata": {
        "colab": {
          "base_uri": "https://localhost:8080/"
        },
        "id": "64KZWeq3HFA2",
        "outputId": "13309b84-7854-4506-9af5-09a0b559def4"
      },
      "source": [
        "#  Saving Model weights\n",
        "model1.save_weights('distilbert_trained_weights/my_model')\n",
        "\n",
        "# loading the model params on which it was trained\n",
        "load_model2 = build_model(distilBERT)\n",
        "\n",
        "#  loading the training weights back to model.\n",
        "load_model2.load_weights('distilbert_trained_weights/my_model')\n",
        "\n",
        "### Downloading the Model to  local file.\n",
        "\n",
        "# from google.colab import files\n",
        "# !zip -r /content/distilbert_retrained_final_V3.zip /content/distilbert_trained_weights\n",
        "# files.download('distilbert_retrained_final_V3.zip')\n",
        "\n",
        "y_pred2 = load_model2.predict([X_train_ids, X_train_attention])\n",
        "ytest2 = load_model2.predict([X_valid_ids, X_valid_attention])\n",
        "\n",
        "train_pred_binary = np.where(y_pred2> 0.49,1,0)\n",
        "test_pred_binary = np.where(ytest2> 0.49,1,0)\n",
        "\n",
        "# (180536, 2) (120358, 2)\n",
        "# reshaping array \n",
        "train_pred_binary = train_pred_binary.reshape(180536,)\n",
        "test_pred_binary = test_pred_binary.reshape(120358,)\n",
        "\n",
        "\n",
        "y_train_np = y_train.to_numpy()\n",
        "y_val_np = y_valid.to_numpy()\n",
        "\n",
        "# Accuracy\n",
        "acc = sum(train_pred_binary == y_train_np)/  len(y_train_np)\n",
        "test_acc = sum(test_pred_binary == y_val_np)/  len(y_val_np)\n",
        "print('Accuracy of train model is {}'.format(acc))\n",
        "print('Accuracy of test model is {}'.format(test_acc))\n",
        "\n",
        "\n",
        "# Confusion Matrix\n",
        "from sklearn.metrics import confusion_matrix\n",
        "print(confusion_matrix(y_val_np,test_pred_binary))\n",
        "\n",
        "\n",
        "#  Recall  , f1 , precision \n",
        "from sklearn.metrics import classification_report\n",
        "print(classification_report(y_val_np,test_pred_binary))\n",
        "\n",
        "ques = ['will democrats win 2021', 'is he still alive', 'are democrats dumb', 'do blacks support gay', 'name famous black celebreties',\n",
        "        'are republican not racists', 'are white people', 'which race is the smartest', 'what are achivements by trump' ,'kiss',\n",
        "        'are republican racists', 'are muslim extremist', 'is india safe', 'are jews loyal', 'which race is not loyal',\n",
        "        'why republican cry always', 'does trump hate gay', 'is america under dictatorship', 'are muslim terrorist', 'do you support taliban',\n",
        "        'are you fool', 'is china facist country' , 'do americans support holocaust']\n",
        "ques = preprocess_parallel(ques)\n",
        "\n",
        "' '.join(ques[0])\n",
        "# ques = ' '.join(preprocess_parallel(ques))\n",
        "\n",
        "join_corpus =[]\n",
        "for l in ques:\n",
        "  join_corpus.append(' '.join(l))\n",
        "\n",
        "\n",
        "sample_ids, sample_attention = batch_encode(tokenizer, join_corpus)\n",
        "\n",
        "\n",
        "(load_model2.predict([sample_ids , sample_attention]))"
      ],
      "execution_count": null,
      "outputs": [
        {
          "output_type": "stream",
          "name": "stdout",
          "text": [
            "Accuracy of train model is 0.9734457393539239\n",
            "Accuracy of test model is 0.9469416241546055\n",
            "[[105083   3003]\n",
            " [  3383   8889]]\n",
            "              precision    recall  f1-score   support\n",
            "\n",
            "           0       0.97      0.97      0.97    108086\n",
            "           1       0.75      0.72      0.74     12272\n",
            "\n",
            "    accuracy                           0.95    120358\n",
            "   macro avg       0.86      0.85      0.85    120358\n",
            "weighted avg       0.95      0.95      0.95    120358\n",
            "\n"
          ]
        },
        {
          "output_type": "execute_result",
          "data": {
            "text/plain": [
              "array([[0.3186586 ],\n",
              "       [0.01233614],\n",
              "       [0.9667449 ],\n",
              "       [0.488376  ],\n",
              "       [0.2814764 ],\n",
              "       [0.82733625],\n",
              "       [0.8401279 ],\n",
              "       [0.29417583],\n",
              "       [0.05591594],\n",
              "       [0.04337768],\n",
              "       [0.81961596],\n",
              "       [0.529867  ],\n",
              "       [0.00629866],\n",
              "       [0.8962034 ],\n",
              "       [0.4541255 ],\n",
              "       [0.8782962 ],\n",
              "       [0.82919824],\n",
              "       [0.04869279],\n",
              "       [0.942593  ],\n",
              "       [0.00664379],\n",
              "       [0.65925974],\n",
              "       [0.09689412],\n",
              "       [0.68639326]], dtype=float32)"
            ]
          },
          "metadata": {},
          "execution_count": 25
        }
      ]
    },
    {
      "cell_type": "markdown",
      "source": [
        "### End"
      ],
      "metadata": {
        "id": "2UV6iDiAsm2D"
      }
    }
  ]
}